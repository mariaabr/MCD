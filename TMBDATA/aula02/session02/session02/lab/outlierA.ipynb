{
 "cells": [
  {
   "cell_type": "code",
   "execution_count": 24,
   "metadata": {},
   "outputs": [
    {
     "name": "stdout",
     "output_type": "stream",
     "text": [
      "stream: [10, 78, 43, 200, 57, 41, 31]\n",
      "streaming_mean: [10.0, 44.0, 43.666666666666664, 82.75, 77.6, 71.5, 65.71428571428571]\n",
      "streaming_std: [0.0, 34.0, 27.764885897278397, 71.8379252205964, 65.07411159593346, 60.95011621536637, 58.181278986369804]\n",
      "streaming_outlier: [200]\n",
      "offline_mean: 65.71428571428571\n",
      "offline_std: 58.1812789863698\n"
     ]
    }
   ],
   "source": [
    "import random\n",
    "import numpy as np\n",
    "\n",
    "N = 100\n",
    "M = 3\n",
    "stream = [random.randint(0,N) for _ in range(M)] + [2*N] + [random.randint(0,N) for _ in range(M)]\n",
    "\n",
    "class BaseAlg:\n",
    "    stream = []\n",
    "    results = {}\n",
    "    x = 0\n",
    "    cutValue = 3.0\n",
    "    ## initialization of variables\n",
    "    n = 0\n",
    "    ms = 0\n",
    "    ds = 0\n",
    "    prevmean = None\n",
    "\n",
    "    def alg(self):\n",
    "        self.n += 1\n",
    "        self.ms += self.x\n",
    "        self.mean = self.ms/self.n\n",
    "        if (self.prevmean==None):\n",
    "            w = self.mean\n",
    "        else:\n",
    "            w = self.prevmean\n",
    "        self.prevmean = self.mean\n",
    "        self.ds += (self.mean-self.x) * (w-self.x)\n",
    "        self.std = (1/self.n * self.ds)**(1/2)\n",
    "        if ('mean' not in self.results.keys()):\n",
    "            self.results['mean'] = []\n",
    "        self.results['mean'].append(self.mean)\n",
    "        if ('std' not in self.results.keys()):\n",
    "            self.results['std'] = []\n",
    "        self.results['std'].append(self.std)\n",
    "        if ('outlier' not in self.results.keys()):\n",
    "            self.results['outlier'] = []\n",
    "        if (self.x < self.mean - self.cutValue*self.std or self.x > self.mean + self.cutValue*self.std):\n",
    "            self.results['outlier'].append(self.x)\n",
    "    \n",
    "    def validate(self):\n",
    "        print(f\"offline_mean: {np.mean(np.array(self.stream))}\")\n",
    "        print(f\"offline_std: {np.std(np.array(self.stream))}\")\n",
    "\n",
    "class StreamAlg(BaseAlg):\n",
    "    \n",
    "    def __init__(self, stream, cutValue=3.0):\n",
    "        print(f\"stream: {stream}\")\n",
    "        self.stream = stream\n",
    "        self.cutValue = cutValue\n",
    "        self.exec()\n",
    "        self.validate()\n",
    "\n",
    "    def exec(self):\n",
    "        for v in self.stream:\n",
    "            self.x = v\n",
    "            self.alg()\n",
    "        for key,value in self.results.items():\n",
    "            print(f\"streaming_{key}: {value}\")\n",
    "\n",
    "SA = StreamAlg(stream, 1.5)"
   ]
  },
  {
   "cell_type": "code",
   "execution_count": null,
   "metadata": {},
   "outputs": [],
   "source": []
  },
  {
   "cell_type": "code",
   "execution_count": null,
   "metadata": {},
   "outputs": [],
   "source": []
  }
 ],
 "metadata": {
  "kernelspec": {
   "display_name": "Python 3",
   "language": "python",
   "name": "python3"
  },
  "language_info": {
   "codemirror_mode": {
    "name": "ipython",
    "version": 3
   },
   "file_extension": ".py",
   "mimetype": "text/x-python",
   "name": "python",
   "nbconvert_exporter": "python",
   "pygments_lexer": "ipython3",
   "version": "3.11.1"
  }
 },
 "nbformat": 4,
 "nbformat_minor": 2
}
