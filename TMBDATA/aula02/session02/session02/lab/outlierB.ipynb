{
 "cells": [
  {
   "cell_type": "code",
   "execution_count": 2,
   "metadata": {},
   "outputs": [
    {
     "name": "stdout",
     "output_type": "stream",
     "text": [
      "stream: [21, 63, 84, 200, 2, 8, 5]\n",
      "streaming_outlier: []\n",
      "offline_mean: 54.714285714285715\n",
      "offline_std: 66.12048371984993\n"
     ]
    }
   ],
   "source": [
    "import random\n",
    "import numpy as np\n",
    "\n",
    "N = 100\n",
    "M = 3\n",
    "stream = [random.randint(0,N) for _ in range(M)] + [2*N] + [random.randint(0,N) for _ in range(M)]\n",
    "\n",
    "class BaseAlg:\n",
    "    stream = []\n",
    "    results = {}\n",
    "    x = 0\n",
    "    cutValue = 3.0\n",
    "    ## initialization of variables\n",
    "    n = 0\n",
    "    ms = 0\n",
    "    ds = 0\n",
    "    mean = None\n",
    "    prevmean = None\n",
    "\n",
    "    def alg(self):\n",
    "        self.n += 1\n",
    "        self.ms += self.x\n",
    "        mean = self.ms/self.n\n",
    "        if (self.mean==None):\n",
    "            self.mean = mean\n",
    "        if (self.prevmean==None):\n",
    "            w = self.mean\n",
    "        else:\n",
    "            w = self.prevmean\n",
    "        self.prevmean = self.mean\n",
    "        self.ds += (mean-self.x) * (w-self.x)\n",
    "        std = (1/self.n * self.ds)**(1/2)\n",
    "        if ('outlier' not in self.results.keys()):\n",
    "            self.results['outlier'] = []\n",
    "        if (self.x < mean - self.cutValue*std or self.x > mean + self.cutValue*std):\n",
    "            self.results['outlier'].append(self.x)\n",
    "        else:\n",
    "            if ('mean' not in self.results.keys()):\n",
    "                self.results['mean'] = []\n",
    "            self.results['mean'].append(mean)\n",
    "            if ('std' not in self.results.keys()):\n",
    "                self.results['std'] = []\n",
    "            self.results['std'].append(std)\n",
    "            self.mean = mean\n",
    "            self.std = std\n",
    "\n",
    "    def validate(self):\n",
    "        print(f\"offline_mean: {np.mean(np.array(self.stream))}\")\n",
    "        print(f\"offline_std: {np.std(np.array(self.stream))}\")\n",
    "\n",
    "class StreamAlg(BaseAlg):\n",
    "    \n",
    "    def __init__(self, stream, cutValue=3.0):\n",
    "        print(f\"stream: {stream}\")\n",
    "        self.stream = stream\n",
    "        self.cutValue = cutValue\n",
    "        self.exec()\n",
    "        self.validate()\n",
    "\n",
    "    def exec(self):\n",
    "        for v in self.stream:\n",
    "            self.x = v\n",
    "            self.alg()\n",
    "        for key,value in self.results.items():\n",
    "            print(f\"streaming_{key}: {value}\")\n",
    "\n",
    "SA = StreamAlg(stream, 1.5)"
   ]
  },
  {
   "cell_type": "code",
   "execution_count": null,
   "metadata": {},
   "outputs": [],
   "source": []
  },
  {
   "cell_type": "code",
   "execution_count": null,
   "metadata": {},
   "outputs": [],
   "source": []
  }
 ],
 "metadata": {
  "kernelspec": {
   "display_name": "Python 3",
   "language": "python",
   "name": "python3"
  },
  "language_info": {
   "codemirror_mode": {
    "name": "ipython",
    "version": 3
   },
   "file_extension": ".py",
   "mimetype": "text/x-python",
   "name": "python",
   "nbconvert_exporter": "python",
   "pygments_lexer": "ipython3",
   "version": "3.11.1"
  }
 },
 "nbformat": 4,
 "nbformat_minor": 2
}
