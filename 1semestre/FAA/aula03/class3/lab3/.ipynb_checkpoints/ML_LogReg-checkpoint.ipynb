{
 "cells": [
  {
   "cell_type": "markdown",
   "metadata": {},
   "source": [
    "# Lab - Unregularized Logistic Regression\n",
    "\n",
    "**Objectives**: Implement Unregularized Logistic Regression and get to see it works on data. "
   ]
  },
  {
   "cell_type": "markdown",
   "metadata": {},
   "source": [
    "**Problem:** Build a Logistic Regression model to predict whether a student gets admitted into a university. Suppose that you are the administrator of a university department and you want to determine each applicant's chance of admission based on their results on two exams. You have historical data from previous applicants that you can use as a training set for Logistic Regression. For each training example, you have the applicant's scores on two exams and the admissions decision. \n",
    "\n",
    "Your task is to build a classification model that estimates an applicant's probability of admission based on the scores from those two exams.\n"
   ]
  },
  {
   "cell_type": "code",
   "execution_count": 1,
   "metadata": {},
   "outputs": [],
   "source": [
    "#Import relevant libraries\n",
    "import numpy as np\n",
    "import matplotlib.pyplot as plt\n",
    "import pandas as pd"
   ]
  },
  {
   "cell_type": "markdown",
   "metadata": {},
   "source": [
    "## Load Data\n",
    "\n",
    "The file *ex2data1.txt* contains the dataset for this problem. The 1st and the 2nd columns are the scores from the exams (X), the 3rd column (y) indicates if the student was admitted (1) or not admitted (0). \n"
   ]
  },
  {
   "cell_type": "code",
   "execution_count": 12,
   "metadata": {},
   "outputs": [
    {
     "name": "stdout",
     "output_type": "stream",
     "text": [
      "(100,)\n",
      "(100, 1)\n"
     ]
    }
   ],
   "source": [
    "#Load data, using function pd.read_csv from panda library.  \n",
    "# If  file ex2data1.txt has no header at the first row of each column, \n",
    "# the second argument of pd.read_csv has to be header=None \n",
    "\n",
    "df = pd.read_csv('ex2data1.txt',header=None)\n",
    "\n",
    "#extract only the values of Dataframe df\n",
    "\n",
    "data_n = df.values\n",
    "\n",
    "#extract the matrix of features X and the labels y\n",
    "X = data_n[:,0:2]\n",
    "\n",
    "y = data_n[:,2]\n",
    "\n",
    "#IMPORTANT: Check the shape of y. If rank one array, reshape y to be a column vector !!!\n",
    "print(np.shape(y))\n",
    "\n",
    "#number of training examples \n",
    "m = X.shape[0]\n",
    "y = y.reshape(m, 1) # reshape y to be a column vector\n",
    "print(np.shape(y))\n",
    "\n",
    "#number of features\n",
    "n = len(X)"
   ]
  },
  {
   "cell_type": "code",
   "execution_count": 13,
   "metadata": {},
   "outputs": [
    {
     "data": {
      "text/html": [
       "<div>\n",
       "<style scoped>\n",
       "    .dataframe tbody tr th:only-of-type {\n",
       "        vertical-align: middle;\n",
       "    }\n",
       "\n",
       "    .dataframe tbody tr th {\n",
       "        vertical-align: top;\n",
       "    }\n",
       "\n",
       "    .dataframe thead th {\n",
       "        text-align: right;\n",
       "    }\n",
       "</style>\n",
       "<table border=\"1\" class=\"dataframe\">\n",
       "  <thead>\n",
       "    <tr style=\"text-align: right;\">\n",
       "      <th></th>\n",
       "      <th>0</th>\n",
       "      <th>1</th>\n",
       "      <th>2</th>\n",
       "    </tr>\n",
       "  </thead>\n",
       "  <tbody>\n",
       "    <tr>\n",
       "      <th>0</th>\n",
       "      <td>34.623660</td>\n",
       "      <td>78.024693</td>\n",
       "      <td>0</td>\n",
       "    </tr>\n",
       "    <tr>\n",
       "      <th>1</th>\n",
       "      <td>30.286711</td>\n",
       "      <td>43.894998</td>\n",
       "      <td>0</td>\n",
       "    </tr>\n",
       "    <tr>\n",
       "      <th>2</th>\n",
       "      <td>35.847409</td>\n",
       "      <td>72.902198</td>\n",
       "      <td>0</td>\n",
       "    </tr>\n",
       "    <tr>\n",
       "      <th>3</th>\n",
       "      <td>60.182599</td>\n",
       "      <td>86.308552</td>\n",
       "      <td>1</td>\n",
       "    </tr>\n",
       "    <tr>\n",
       "      <th>4</th>\n",
       "      <td>79.032736</td>\n",
       "      <td>75.344376</td>\n",
       "      <td>1</td>\n",
       "    </tr>\n",
       "  </tbody>\n",
       "</table>\n",
       "</div>"
      ],
      "text/plain": [
       "           0          1  2\n",
       "0  34.623660  78.024693  0\n",
       "1  30.286711  43.894998  0\n",
       "2  35.847409  72.902198  0\n",
       "3  60.182599  86.308552  1\n",
       "4  79.032736  75.344376  1"
      ]
     },
     "execution_count": 13,
     "metadata": {},
     "output_type": "execute_result"
    }
   ],
   "source": [
    "#a few examples from Dataframe df\n",
    "df.head()"
   ]
  },
  {
   "cell_type": "code",
   "execution_count": 14,
   "metadata": {},
   "outputs": [
    {
     "data": {
      "text/html": [
       "<div>\n",
       "<style scoped>\n",
       "    .dataframe tbody tr th:only-of-type {\n",
       "        vertical-align: middle;\n",
       "    }\n",
       "\n",
       "    .dataframe tbody tr th {\n",
       "        vertical-align: top;\n",
       "    }\n",
       "\n",
       "    .dataframe thead th {\n",
       "        text-align: right;\n",
       "    }\n",
       "</style>\n",
       "<table border=\"1\" class=\"dataframe\">\n",
       "  <thead>\n",
       "    <tr style=\"text-align: right;\">\n",
       "      <th></th>\n",
       "      <th>0</th>\n",
       "      <th>1</th>\n",
       "      <th>2</th>\n",
       "    </tr>\n",
       "  </thead>\n",
       "  <tbody>\n",
       "    <tr>\n",
       "      <th>count</th>\n",
       "      <td>100.000000</td>\n",
       "      <td>100.000000</td>\n",
       "      <td>100.000000</td>\n",
       "    </tr>\n",
       "    <tr>\n",
       "      <th>mean</th>\n",
       "      <td>65.644274</td>\n",
       "      <td>66.221998</td>\n",
       "      <td>0.600000</td>\n",
       "    </tr>\n",
       "    <tr>\n",
       "      <th>std</th>\n",
       "      <td>19.458222</td>\n",
       "      <td>18.582783</td>\n",
       "      <td>0.492366</td>\n",
       "    </tr>\n",
       "    <tr>\n",
       "      <th>min</th>\n",
       "      <td>30.058822</td>\n",
       "      <td>30.603263</td>\n",
       "      <td>0.000000</td>\n",
       "    </tr>\n",
       "    <tr>\n",
       "      <th>25%</th>\n",
       "      <td>50.919511</td>\n",
       "      <td>48.179205</td>\n",
       "      <td>0.000000</td>\n",
       "    </tr>\n",
       "    <tr>\n",
       "      <th>50%</th>\n",
       "      <td>67.032988</td>\n",
       "      <td>67.682381</td>\n",
       "      <td>1.000000</td>\n",
       "    </tr>\n",
       "    <tr>\n",
       "      <th>75%</th>\n",
       "      <td>80.212529</td>\n",
       "      <td>79.360605</td>\n",
       "      <td>1.000000</td>\n",
       "    </tr>\n",
       "    <tr>\n",
       "      <th>max</th>\n",
       "      <td>99.827858</td>\n",
       "      <td>98.869436</td>\n",
       "      <td>1.000000</td>\n",
       "    </tr>\n",
       "  </tbody>\n",
       "</table>\n",
       "</div>"
      ],
      "text/plain": [
       "                0           1           2\n",
       "count  100.000000  100.000000  100.000000\n",
       "mean    65.644274   66.221998    0.600000\n",
       "std     19.458222   18.582783    0.492366\n",
       "min     30.058822   30.603263    0.000000\n",
       "25%     50.919511   48.179205    0.000000\n",
       "50%     67.032988   67.682381    1.000000\n",
       "75%     80.212529   79.360605    1.000000\n",
       "max     99.827858   98.869436    1.000000"
      ]
     },
     "execution_count": 14,
     "metadata": {},
     "output_type": "execute_result"
    }
   ],
   "source": [
    "df.describe()\n",
    "\n",
    "#df.info"
   ]
  },
  {
   "cell_type": "markdown",
   "metadata": {},
   "source": [
    "### Plot Data\n",
    "Create a scatter plot of data similar to Fig.1 (using plt.scatter). Students with higher test score for both exam were admitted into the university as expected.\n",
    "\n",
    "<img src=\"images/f1.png\" style=\"width:350px;height:250px;\">\n",
    "<caption><center> Fig. 1: file ex2data1.txt </center></caption>\n"
   ]
  },
  {
   "cell_type": "code",
   "execution_count": 15,
   "metadata": {},
   "outputs": [
    {
     "data": {
      "text/plain": [
       "<matplotlib.legend.Legend at 0x7eb653fcb750>"
      ]
     },
     "execution_count": 15,
     "metadata": {},
     "output_type": "execute_result"
    },
    {
     "data": {
      "image/png": "[encoded data removed]",
      "text/plain": [
       "<Figure size 640x480 with 1 Axes>"
      ]
     },
     "metadata": {},
     "output_type": "display_data"
    }
   ],
   "source": [
    "pos=(y==1)\n",
    "neg=(y==0)\n",
    "plt.scatter(X[pos[:,0],0],X[pos[:,0],1],c=\"r\", label=\"Admitted\", marker=\"+\")\n",
    "plt.scatter(X[neg[:,0],0],X[neg[:,0],1],c=\"b\", label=\"Not admitted\", marker=\"o\")\n",
    "\n",
    "#add figure labels\n",
    "plt.xlabel('Exam 1 score')\n",
    "plt.ylabel('Exam 2 score')\n",
    "plt.legend(loc=\"lower left\")"
   ]
  },
  {
   "cell_type": "markdown",
   "metadata": {},
   "source": [
    "### Sigmoid function\n",
    "\n",
    "Complete *sigmoid* function that computes $ g(z) = \\frac{1}{(1+e^{-z})}$. \n"
   ]
  },
  {
   "cell_type": "code",
   "execution_count": 16,
   "metadata": {},
   "outputs": [],
   "source": [
    "def sigmoid(z):\n",
    "    \"\"\"\n",
    "    return the sigmoid of z\n",
    "    \"\"\"\n",
    "    \n",
    "    gz = 1/(1+np.exp(-z))\n",
    "    \n",
    "    return gz"
   ]
  },
  {
   "cell_type": "code",
   "execution_count": 17,
   "metadata": {},
   "outputs": [
    {
     "name": "stdout",
     "output_type": "stream",
     "text": [
      "0.5\n"
     ]
    }
   ],
   "source": [
    "# Test the sigmoid function for z=0 => ANSWER =0.5 \n",
    "result = sigmoid(0) # z = 0\n",
    "print(result)"
   ]
  },
  {
   "cell_type": "markdown",
   "metadata": {},
   "source": [
    "### Compute the Cost Function and Gradient\n",
    "\n",
    "Recall that the Logistic Regression model is defined as:    $h_{\\theta}(x^{(i)})=  \\frac{1}{1+e^{-\\theta (x^{(i)})}}$\n",
    "\n",
    "The cost function in Logistic Regression is: $J(\\theta) = \\frac{1}{m} \\sum_{i=1}^{m} [ -y^{(i)}log(h_{\\theta}(x^{(i)})) - (1 - y^{(i)})log(1 - (h_{\\theta}(x^{(i)}))]$\n",
    "\n",
    "The gradient of $J(\\theta)$ is a vector of the same length as $\\theta$  where the jth element (for j = 0, 1,…. n) is defined as:\n",
    "$ \\frac{\\partial J(\\theta)}{\\partial \\theta_j} = \\frac{1}{m} \\sum_{i=1}^{m} (h_{\\theta}(x^{(i)}) - y^{(i)})x_j^{(i)}$\n",
    "\n",
    "Complete function *costFunction* to return $J(\\theta)$ and the gradient ((partial derivative of $J(\\theta)$ with respect to each $\\theta$) for logistic regression. \n"
   ]
  },
  {
   "cell_type": "code",
   "execution_count": 24,
   "metadata": {},
   "outputs": [],
   "source": [
    "def costFunction(theta, X, y):\n",
    "    \"\"\"\n",
    "    Takes in numpy array theta, x and y and return the logistic regression cost function and gradient\n",
    "    \"\"\"\n",
    "    \n",
    "    #number of training examples \n",
    "    m = X.shape[0]\n",
    "    \n",
    "    # model predictions for all training examples\n",
    "    h = sigmoid(np.dot(X,theta))\n",
    "         \n",
    "    error = (-y * np.log(h)) - ((1-y)*np.log(1-h))\n",
    "\n",
    "    #cost function\n",
    "    cost = 1/m * sum(error)\n",
    "       \n",
    "    #vector of gradients of all model parameters theta   \n",
    "    grad = 1/m * np.dot(X.transpose(),(h - y))\n",
    "    \n",
    "    return cost[0] , grad"
   ]
  },
  {
   "cell_type": "markdown",
   "metadata": {},
   "source": [
    "\n",
    "### Feature normalization\n",
    "\n",
    "Mean normalization:\n",
    "\n",
    "$x_i = \\frac{x_i - \\mu_i}{\\sigma_i}$\n",
    "\n",
    "Complete function **featureNormalization(X)**.\n",
    "\n",
    "• Compute the mean value  $\\mu_i$ of each feature (use function np.mean(X,axis=0)) \n",
    "\n",
    "• compute the standard deviation $\\sigma_i$ of each feature (use function np.std(X,axis=0)) \n",
    "\n",
    "• Apply the equation above.\n",
    "\n",
    "**IMPORTANT:** When normalizing the features, it is important to store the mean value and the standard deviation used for normalization. After optimizing the trainable parameters of the model (thetas), you want to use the model for new examples not seen before.\n",
    "You must first normalize the features of the new examples using the mean and standard deviation previously computed from the training set."
   ]
  },
  {
   "cell_type": "code",
   "execution_count": 30,
   "metadata": {},
   "outputs": [],
   "source": [
    "def featureNormalization(X):\n",
    "    \"\"\"\n",
    "    Take in numpy array of X values and return normalize X values,\n",
    "    the mean and standard deviation of each feature\n",
    "    \"\"\"\n",
    "    mean = np.mean(X, axis=0)\n",
    "    \n",
    "    std = np.std(X, axis=0)\n",
    "    \n",
    "    X_norm = (X-mean)/std\n",
    "    \n",
    "    return X_norm , mean , std"
   ]
  },
  {
   "cell_type": "code",
   "execution_count": 32,
   "metadata": {},
   "outputs": [
    {
     "name": "stdout",
     "output_type": "stream",
     "text": [
      "Cost for initial theta is 0.693\n",
      "Gradient for initial theta: [[-0.1       ]\n",
      " [-0.28122914]\n",
      " [-0.25098615]]\n"
     ]
    }
   ],
   "source": [
    "#Run featureNormalization to normalize X, store the means and stds.\n",
    "\n",
    "Xnorm, X_mean, X_std = featureNormalization(X)\n",
    "\n",
    "#After normalizing the features, add an extra column of 1's corresponding to x0 = 1.\n",
    "X1 = np.append(np.ones((m, 1)), Xnorm, axis=1) # use X normalized\n",
    "\n",
    "n = X1.shape[1]\n",
    "\n",
    "# Inicialize VECTOR initial_theta to be equal to 0 (it is not a scalar !!!)\n",
    "initial_theta = np.zeros((n, 1))\n",
    "\n",
    "#Run costFunction\n",
    "cost, grad = costFunction(initial_theta, X1, y)\n",
    "\n",
    "print(\"Cost for initial theta is\",round(cost,3) )   # ANSWER: Cost of initial theta is 0.693\n",
    "\n",
    "#ANSWER: Gradient for initial theta: [[-0.1 ] [-0.28122914] [-0.25098615]]\n",
    "print(\"Gradient for initial theta:\",grad)  "
   ]
  },
  {
   "cell_type": "markdown",
   "metadata": {},
   "source": [
    "### Gradient Descent\n",
    "Implement gradient descent in the function *gradientDescent*. \n",
    "\n",
    "The loop structure is written, you need to supply the updates for $\\theta$  within each iteration."
   ]
  },
  {
   "cell_type": "code",
   "execution_count": 44,
   "metadata": {},
   "outputs": [],
   "source": [
    "def gradientDescent(X,y,theta,alpha,num_iters):\n",
    "    \"\"\"\n",
    "    Take in numpy array X, y and theta and update theta by taking num_iters gradient steps\n",
    "    with learning rate of alpha\n",
    "    \n",
    "    return theta and the list of the cost of theta during each iteration\n",
    "    \"\"\"\n",
    "    #number of training examples\n",
    "    m = X.shape[0]\n",
    "    # print(m, 'and', len(y))\n",
    "    \n",
    "    J_history = []\n",
    "    \n",
    "    for i in range(num_iters):\n",
    "        cost, grad = costFunction(theta, X, y)\n",
    "        theta = theta - alpha * grad\n",
    "        J_history.append(cost)\n",
    "    \n",
    "    return theta , J_history"
   ]
  },
  {
   "cell_type": "code",
   "execution_count": 45,
   "metadata": {},
   "outputs": [
    {
     "name": "stdout",
     "output_type": "stream",
     "text": [
      "Theta optimized by gradient descent: [[1.50684266]\n",
      " [3.54336363]\n",
      " [3.29044192]]\n",
      "The cost for the optimized theta: 0.205\n"
     ]
    }
   ],
   "source": [
    "# Run gradientDescent with learning rate 0.5 and 400 iterations. \n",
    "alpha = 0.5 # learning rate\n",
    "iterations = 400\n",
    "# initial_theta = np.zeros((n,1))\n",
    "\n",
    "theta , J_history = gradientDescent(X1, y, initial_theta, alpha, iterations)\n",
    "\n",
    "print(\"Theta optimized by gradient descent:\",theta)\n",
    "\n",
    "#ANSWER: The cost for the optimized theta: 0.205\n",
    "print(\"The cost for the optimized theta:\",round(J_history[-1],3))  "
   ]
  },
  {
   "cell_type": "markdown",
   "metadata": {},
   "source": [
    "### Plot the Cost Function \n",
    "Choose 400 iterations. Try different values of the learning  rate = [0.01, 0.1, 0.5, 1]\n",
    "and get plots similar to Fig. 2. \n",
    "\n",
    "<img src=\"images/f6.png\" style=\"width:350px;height:250px;\">\n",
    "<caption><center> **Fig. 2** : **Cost function evolution for varying learning rates ** </center></caption>"
   ]
  },
  {
   "cell_type": "code",
   "execution_count": 48,
   "metadata": {},
   "outputs": [
    {
     "data": {
      "text/plain": [
       "<matplotlib.legend.Legend at 0x7eb647d615d0>"
      ]
     },
     "execution_count": 48,
     "metadata": {},
     "output_type": "execute_result"
    },
    {
     "data": {
      "image/png": "[encoded data removed]",
      "text/plain": [
       "<Figure size 640x480 with 1 Axes>"
      ]
     },
     "metadata": {},
     "output_type": "display_data"
    }
   ],
   "source": [
    "lr = [0.01, 0.1, 0.5, 1]\n",
    "iterations = 400\n",
    "\n",
    "for i in lr:\n",
    "    theta , J_history = gradientDescent(X1, y, initial_theta, i, iterations)\n",
    "    plt.plot(J_history, label=i)\n",
    "\n",
    "plt.xlabel(\"Iteration\")\n",
    "plt.ylabel(\"J(theta)\")\n",
    "plt.title(\"Cost function using Gradient Descent\")\n",
    "plt.legend()"
   ]
  },
  {
   "cell_type": "markdown",
   "metadata": {},
   "source": [
    "### Plotting the decision boundary\n",
    "   \n",
    "Our model is sigmoid function:  $h_{\\theta}(x)=  \\frac{1}{1+e^{-\\theta^T x}}$\n",
    "\n",
    "If $h_\\theta(x) > 0.5$ => predict class \"1\", that is $\\theta^Tx> 0$ => predict class \"1\"\n",
    "\n",
    "If $h_\\theta(x) < 0.5$ => predict class \"0\", that is $\\theta^Tx< 0$ => predict class \"0\" \n",
    "\n",
    "$\\theta^Tx = 0$  is the decision boundary. \n",
    "\n",
    "In this particular case $\\theta_0 + \\theta_1x_1 + \\theta_2x_2 = 0$ is the decision boundary-   \n",
    "\n",
    "Since, we plot $x_1$ against $x_2$, the boundary line will be the equation $ x_2 = \\frac{-(\\theta_0+\\theta_1x_1)}{\\theta_2}$\n",
    "\n",
    "Plot the data and the decision boundary. You should get a figure similar to Fig.3.\n",
    "\n",
    "<img src=\"images/f2.png\" style=\"width:350px;height:250px;\">\n",
    "<caption><center> Fig. 3: Training data vs Decision boundary </center></caption>"
   ]
  },
  {
   "cell_type": "code",
   "execution_count": 49,
   "metadata": {},
   "outputs": [
    {
     "data": {
      "text/plain": [
       "<matplotlib.legend.Legend at 0x7eb649d6ab90>"
      ]
     },
     "execution_count": 49,
     "metadata": {},
     "output_type": "execute_result"
    },
    {
     "data": {
      "image/png": "[encoded data removed]",
      "text/plain": [
       "<Figure size 640x480 with 1 Axes>"
      ]
     },
     "metadata": {},
     "output_type": "display_data"
    }
   ],
   "source": [
    "#Create Fig.3\n",
    "pos=(y==1)\n",
    "neg=(y==0)\n",
    "plt.scatter(Xnorm[pos[:,0],0],Xnorm[pos[:,0],1],c=\"r\",marker=\"+\")\n",
    "plt.scatter(Xnorm[neg[:,0],0],Xnorm[neg[:,0],1],c=\"b\",marker=\"o\")\n",
    "\n",
    "#Sugestion how to plot the decision boundary (the green line)\n",
    "x_value= np.array([np.min(Xnorm[:,1]),np.max(Xnorm[:,1])])\n",
    "y_value=-(theta[0] +theta[1]*x_value)/theta[2]\n",
    "plt.plot(x_value,y_value, \"g\")\n",
    "\n",
    "plt.xlabel(\"Exam 1 score\")\n",
    "plt.ylabel(\"Exam 2 score\")\n",
    "plt.legend([\"Admitted\",\"Not admitted\"])"
   ]
  },
  {
   "cell_type": "markdown",
   "metadata": {},
   "source": [
    "### Prediction\n",
    "\n",
    "For a student with Exam1 score of 45 and Exam2 score of 85, use the learned model to compute what is the admission probability of this student. The answer is around 77% probability (0.767). "
   ]
  },
  {
   "cell_type": "code",
   "execution_count": 52,
   "metadata": {},
   "outputs": [
    {
     "name": "stdout",
     "output_type": "stream",
     "text": [
      "For a student with scores 45 and 85, we predict an admission probability of 0.7677628875792489\n"
     ]
    }
   ],
   "source": [
    "x_test = np.array([45,85])\n",
    "\n",
    "#Normalize x_test\n",
    "\n",
    "x_test = (x_test - X_mean)/X_std # use old data already calculated\n",
    "\n",
    "#Add one \n",
    "x_test = np.append(np.ones(1),x_test)\n",
    "\n",
    "#Compute the logistic regression prediction (the probability for admission)\n",
    "\n",
    "prob = sigmoid(np.dot(x_test, theta))\n",
    "\n",
    "print(\"For a student with scores 45 and 85, we predict an admission probability of\",prob[0])"
   ]
  },
  {
   "cell_type": "markdown",
   "metadata": {},
   "source": [
    "### Accuracy on training set \n",
    "\n",
    "Evaluate how well the learned model predicts on the training set. Complete the function *classifierPredict*. \n",
    "\n",
    "The *classifierPredict* function returns a boolean array with True if the probability of admission into university is more than 0.5 and False otherwise. Taking the sum(p==y) adds up all instances where it correctly predicts the given y values (the labels)."
   ]
  },
  {
   "cell_type": "code",
   "execution_count": 53,
   "metadata": {},
   "outputs": [],
   "source": [
    "def classifierPredict(theta,X):\n",
    "    \"\"\"\n",
    "    input theta and X, compute z (what is z ?) \n",
    "    give back binary output  z > 0\n",
    "    \"\"\"\n",
    "    z = np.dot(X, theta)\n",
    "    \n",
    "    return z>0"
   ]
  },
  {
   "cell_type": "code",
   "execution_count": 56,
   "metadata": {},
   "outputs": [
    {
     "name": "stdout",
     "output_type": "stream",
     "text": [
      "[[False]\n",
      " [False]\n",
      " [False]\n",
      " [ True]\n",
      " [ True]\n",
      " [False]\n",
      " [ True]\n",
      " [False]\n",
      " [ True]\n",
      " [ True]\n",
      " [ True]\n",
      " [False]\n",
      " [ True]\n",
      " [ True]\n",
      " [False]\n",
      " [ True]\n",
      " [False]\n",
      " [False]\n",
      " [ True]\n",
      " [ True]\n",
      " [False]\n",
      " [ True]\n",
      " [False]\n",
      " [False]\n",
      " [ True]\n",
      " [ True]\n",
      " [ True]\n",
      " [ True]\n",
      " [False]\n",
      " [False]\n",
      " [ True]\n",
      " [ True]\n",
      " [False]\n",
      " [False]\n",
      " [False]\n",
      " [False]\n",
      " [ True]\n",
      " [ True]\n",
      " [False]\n",
      " [False]\n",
      " [ True]\n",
      " [False]\n",
      " [ True]\n",
      " [ True]\n",
      " [False]\n",
      " [False]\n",
      " [ True]\n",
      " [ True]\n",
      " [ True]\n",
      " [ True]\n",
      " [ True]\n",
      " [ True]\n",
      " [ True]\n",
      " [False]\n",
      " [False]\n",
      " [False]\n",
      " [ True]\n",
      " [ True]\n",
      " [ True]\n",
      " [ True]\n",
      " [ True]\n",
      " [False]\n",
      " [False]\n",
      " [False]\n",
      " [False]\n",
      " [False]\n",
      " [ True]\n",
      " [False]\n",
      " [ True]\n",
      " [ True]\n",
      " [False]\n",
      " [ True]\n",
      " [ True]\n",
      " [ True]\n",
      " [ True]\n",
      " [ True]\n",
      " [ True]\n",
      " [ True]\n",
      " [False]\n",
      " [ True]\n",
      " [ True]\n",
      " [ True]\n",
      " [ True]\n",
      " [False]\n",
      " [ True]\n",
      " [ True]\n",
      " [False]\n",
      " [ True]\n",
      " [ True]\n",
      " [False]\n",
      " [ True]\n",
      " [ True]\n",
      " [False]\n",
      " [ True]\n",
      " [ True]\n",
      " [ True]\n",
      " [ True]\n",
      " [ True]\n",
      " [False]\n",
      " [ True]]\n",
      "Train Mean Accuracy: 89.0 %\n"
     ]
    }
   ],
   "source": [
    "p=classifierPredict(theta,X1)\n",
    "print(p)\n",
    "print(\"Train Mean Accuracy:\", (sum(p==y)/len(y)*100)[0],\"%\")  #ANSWER: Train Accuracy: 89 %"
   ]
  },
  {
   "cell_type": "markdown",
   "metadata": {},
   "source": [
    "## sklearn library to solve the same problem "
   ]
  },
  {
   "cell_type": "code",
   "execution_count": 66,
   "metadata": {},
   "outputs": [
    {
     "name": "stdout",
     "output_type": "stream",
     "text": [
      "Accuracy of log reg classifier\n",
      "0.89\n"
     ]
    }
   ],
   "source": [
    "from sklearn.linear_model import LogisticRegression\n",
    "\n",
    "y = data_n[:,2]  # has to be 1d array\n",
    "# y = y.shape[0]\n",
    "# print(np.shape(y))\n",
    "\n",
    "logitN = LogisticRegression()\n",
    "logitN.fit(Xnorm,y)\n",
    "print('Accuracy of log reg classifier')\n",
    "print(logitN.score(Xnorm, y))"
   ]
  },
  {
   "cell_type": "code",
   "execution_count": null,
   "metadata": {},
   "outputs": [],
   "source": [
    " LogisticRegression?"
   ]
  }
 ],
 "metadata": {
  "kernelspec": {
   "display_name": "Python 3 (ipykernel)",
   "language": "python",
   "name": "python3"
  },
  "language_info": {
   "codemirror_mode": {
    "name": "ipython",
    "version": 3
   },
   "file_extension": ".py",
   "mimetype": "text/x-python",
   "name": "python",
   "nbconvert_exporter": "python",
   "pygments_lexer": "ipython3",
   "version": "3.11.10"
  }
 },
 "nbformat": 4,
 "nbformat_minor": 4
}
