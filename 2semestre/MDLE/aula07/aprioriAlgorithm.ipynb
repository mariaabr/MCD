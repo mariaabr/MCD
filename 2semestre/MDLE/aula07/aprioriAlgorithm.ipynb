{
 "cells": [
  {
   "cell_type": "markdown",
   "metadata": {},
   "source": [
    "## MLSD: Apriori Algorithm to find frequent 1-itemsets and 2-itemsets\n",
    "#### Maria Rafaela Alves Abrunhosa 107658\n",
    "**3rd April 2025**\n",
    "\n",
    "Write a python program that implements the Apriori algorithm, limited to finding frequent 1-itemsets and 2-itemsets from the list of transactions.\n",
    "\n",
    "*Note:* Use only basic python data types (such as lists, tuples, and sets). You can use *intertools.combinations()* to helo with 2-itemset generation.\n",
    "\n",
    "Follow the next steps:\n",
    "- **1st:** count element occurrence\n",
    "- **2nd:** calculate element support\n",
    "    - frequent 1-itemset\n",
    "- **3rd:** generate pairs of items out of frequent 1-itemset\n",
    "- **4th:** calculate 2-element (pair) support\n",
    "    - frequent2-itemsets\n",
    "\n",
    "Calculate the pair confidence and the association rules."
   ]
  },
  {
   "cell_type": "code",
   "execution_count": 9,
   "metadata": {},
   "outputs": [],
   "source": [
    "from itertools import combinations\n",
    "\n",
    "transactions = [\n",
    "    ['milk', 'bread', 'nuts', 'apple'],\n",
    "    ['milk', 'bread', 'nuts'],\n",
    "    ['milk', 'bread'],\n",
    "    ['milk', 'apple'],\n",
    "    ['bread', 'apple']\n",
    "]\n",
    "\n",
    "minSupport = 0.6\n",
    "minConfidence = 0.7"
   ]
  },
  {
   "cell_type": "code",
   "execution_count": 12,
   "metadata": {},
   "outputs": [
    {
     "name": "stdout",
     "output_type": "stream",
     "text": [
      "Frequent 1-itemsets: {'milk': 0.8, 'bread': 0.8, 'apple': 0.6}\n",
      "Frequent 2-itemsets: {('bread', 'milk'): 0.6}\n"
     ]
    }
   ],
   "source": [
    "elementCount = {}\n",
    "elementSupport = {}\n",
    "frequent1Itemset = {}\n",
    "pairCount = {}\n",
    "pairSupport = {}\n",
    "frequent2Itemset = {}\n",
    "\n",
    "# apriori algorithm - 1st step\n",
    "for t in transactions:\n",
    "    for element in t:\n",
    "        if element not in elementCount:\n",
    "            elementCount[element] = 0\n",
    "        elementCount[element] += 1\n",
    "\n",
    "# calculate the support - fraction of transactions that contain and itemset\n",
    "for element, count in elementCount.items():\n",
    "    if element not in elementSupport:\n",
    "        elementSupport[element] = 0\n",
    "    elementSupport[element] = count / len(transactions)\n",
    "\n",
    "for element, support in elementSupport.items():\n",
    "    if support >= minSupport:\n",
    "        frequent1Itemset[element] = support\n",
    "\n",
    "# 2nd step\n",
    "for t in transactions:\n",
    "    for pair in combinations(t, 2): # generate all possible pairs of transactions\n",
    "        pair = tuple(sorted(pair)) # only to avoid duplications\n",
    "        if pair not in pairCount:\n",
    "            pairCount[pair] = 0\n",
    "        pairCount[pair] += 1\n",
    "    \n",
    "# calculate the support for 2-itemsets\n",
    "for pair, count in pairCount.items():\n",
    "    if pair not in pairSupport:\n",
    "        pairSupport[pair] = 0\n",
    "    pairSupport[pair] = count / len(transactions)\n",
    "\n",
    "for pair, support in pairSupport.items():\n",
    "    if support >= minSupport:\n",
    "        frequent2Itemset[pair] = support\n",
    "\n",
    "print(\"Frequent 1-itemsets:\", frequent1Itemset)\n",
    "print(\"Frequent 2-itemsets:\", frequent2Itemset)"
   ]
  },
  {
   "cell_type": "markdown",
   "metadata": {},
   "source": [
    "We calculate the confidence for 2-itemsets since even with a high support (both being frequent), it is not a garantee that one element leads to another.\n",
    "The confidence quantifies that direct relation."
   ]
  },
  {
   "cell_type": "code",
   "execution_count": 19,
   "metadata": {},
   "outputs": [
    {
     "name": "stdout",
     "output_type": "stream",
     "text": [
      "Filtered Rules (Confidence >= min_confidence): {('bread', 'milk'): {'bread -> milk': 0.75, 'milk -> bread': 0.75}}\n"
     ]
    }
   ],
   "source": [
    "# calculate confidence for 2-itemsets\n",
    "# print(pairSupport)\n",
    "confidenceValues = {}\n",
    "for pair, support in frequent2Itemset.items():\n",
    "    a, b = pair\n",
    "    # print(pair)\n",
    "    confidenceValues[pair] = {\n",
    "        f\"{a} -> {b}\": round(support / elementSupport[a], 2),\n",
    "        f\"{b} -> {a}\": round(support / elementSupport[b], 2)\n",
    "    }\n",
    "\n",
    "# filter rules based on minConfidence\n",
    "filteredRules = {}\n",
    "for pair, confidences in confidenceValues.items():\n",
    "    filteredRules[pair] = {rule: conf for rule, conf in confidences.items() if conf >= minConfidence}\n",
    "\n",
    "print(\"Filtered Rules (Confidence >= min_confidence):\", filteredRules)\n"
   ]
  }
 ],
 "metadata": {
  "kernelspec": {
   "display_name": "fcd",
   "language": "python",
   "name": "python3"
  },
  "language_info": {
   "codemirror_mode": {
    "name": "ipython",
    "version": 3
   },
   "file_extension": ".py",
   "mimetype": "text/x-python",
   "name": "python",
   "nbconvert_exporter": "python",
   "pygments_lexer": "ipython3",
   "version": "3.12.6"
  }
 },
 "nbformat": 4,
 "nbformat_minor": 2
}
