{
 "cells": [
  {
   "cell_type": "markdown",
   "metadata": {},
   "source": [
    "## MLSD: PySpark Data Frames Employees\n",
    "#### Maria Rafaela Alves Abrunhosa 107658\n",
    "**24th March 2025**\n",
    "\n",
    "Given the dataset *employees.csv* found in the shared folder, explore the following operations:\n",
    "- Display schema and first few rows.\n",
    "- Filter employees with a salary greater than 5000.\n",
    "- Calculate the average salary per department.\n",
    "- Find the employee with the highest salary in each department.\n",
    "- Add a new column [Salary Increase] which increases salaries by 10% \n",
    "for employees with more than 5 years of experience.\n",
    "- Sort the employees by experience in descending order and show the top 5."
   ]
  },
  {
   "cell_type": "code",
   "execution_count": 27,
   "metadata": {},
   "outputs": [],
   "source": [
    "# imports\n",
    "from pyspark.sql import SparkSession\n",
    "from pyspark.sql.window import Window\n",
    "from pyspark.sql.functions import avg, col, rank, when, desc\n",
    "import pandas as pd"
   ]
  },
  {
   "cell_type": "code",
   "execution_count": 3,
   "metadata": {},
   "outputs": [
    {
     "name": "stderr",
     "output_type": "stream",
     "text": [
      "25/04/01 12:27:23 WARN Utils: Your hostname, rafaela-XPS-15-9570 resolves to a loopback address: 127.0.1.1; using 192.168.1.8 instead (on interface wlp59s0)\n",
      "25/04/01 12:27:23 WARN Utils: Set SPARK_LOCAL_IP if you need to bind to another address\n",
      "Setting default log level to \"WARN\".\n",
      "To adjust logging level use sc.setLogLevel(newLevel). For SparkR, use setLogLevel(newLevel).\n",
      "25/04/01 12:27:24 WARN NativeCodeLoader: Unable to load native-hadoop library for your platform... using builtin-java classes where applicable\n"
     ]
    },
    {
     "name": "stdout",
     "output_type": "stream",
     "text": [
      "+----------+-------+----------+------+------------------+\n",
      "|EmployeeID|   Name|Department|Salary|Experience (Years)|\n",
      "+----------+-------+----------+------+------------------+\n",
      "|      1001|  Frank|        IT|  8231|                20|\n",
      "|      1002|  Alice|        HR|  3716|                23|\n",
      "|      1003|  Alice| Marketing|  9334|                11|\n",
      "|      1004|  David|     Sales| 14785|                 8|\n",
      "|      1005|   Kara|Operations|  8301|                13|\n",
      "|      1006|Charlie|Operations|  5720|                28|\n",
      "|      1007|    Eve|        IT|  4801|                 4|\n",
      "|      1008|   Liam|   Finance|  9243|                15|\n",
      "|      1009|    Bob|   Finance| 11775|                 5|\n",
      "|      1010|    Bob|Operations|  6456|                27|\n",
      "|      1011| Hannah|        IT|  6457|                15|\n",
      "|      1012|Charlie|        HR| 11244|                29|\n",
      "|      1013|  Alice| Marketing|  8875|                16|\n",
      "|      1014|  Frank|Operations|  7422|                28|\n",
      "|      1015|Charlie|        HR|  4539|                 8|\n",
      "|      1016|  David|   Finance|  7087|                24|\n",
      "|      1017|   Jack|        HR|  4195|                15|\n",
      "|      1018|    Bob|     Sales| 11012|                17|\n",
      "|      1019|   Kara|        IT| 12701|                24|\n",
      "|      1020|  Alice|        IT| 14655|                18|\n",
      "+----------+-------+----------+------+------------------+\n",
      "only showing top 20 rows\n",
      "\n"
     ]
    }
   ],
   "source": [
    "# create a spark session\n",
    "spark = SparkSession.builder.appName(\"Employees Analysis\").getOrCreate()\n",
    "\n",
    "# create a dataframe using employees.csv\n",
    "path = \"employees.csv\"\n",
    "df = spark.read.csv(path, header=True, inferSchema=True)\n",
    "df.show()"
   ]
  },
  {
   "cell_type": "code",
   "execution_count": null,
   "metadata": {},
   "outputs": [
    {
     "name": "stdout",
     "output_type": "stream",
     "text": [
      "root\n",
      " |-- EmployeeID: integer (nullable = true)\n",
      " |-- Name: string (nullable = true)\n",
      " |-- Department: string (nullable = true)\n",
      " |-- Salary: integer (nullable = true)\n",
      " |-- Experience (Years): integer (nullable = true)\n",
      "\n",
      "+----------+-------+----------+------+------------------+\n",
      "|EmployeeID|   Name|Department|Salary|Experience (Years)|\n",
      "+----------+-------+----------+------+------------------+\n",
      "|      1001|  Frank|        IT|  8231|                20|\n",
      "|      1002|  Alice|        HR|  3716|                23|\n",
      "|      1003|  Alice| Marketing|  9334|                11|\n",
      "|      1004|  David|     Sales| 14785|                 8|\n",
      "|      1005|   Kara|Operations|  8301|                13|\n",
      "|      1006|Charlie|Operations|  5720|                28|\n",
      "|      1007|    Eve|        IT|  4801|                 4|\n",
      "|      1008|   Liam|   Finance|  9243|                15|\n",
      "|      1009|    Bob|   Finance| 11775|                 5|\n",
      "|      1010|    Bob|Operations|  6456|                27|\n",
      "|      1011| Hannah|        IT|  6457|                15|\n",
      "|      1012|Charlie|        HR| 11244|                29|\n",
      "|      1013|  Alice| Marketing|  8875|                16|\n",
      "|      1014|  Frank|Operations|  7422|                28|\n",
      "|      1015|Charlie|        HR|  4539|                 8|\n",
      "|      1016|  David|   Finance|  7087|                24|\n",
      "|      1017|   Jack|        HR|  4195|                15|\n",
      "|      1018|    Bob|     Sales| 11012|                17|\n",
      "|      1019|   Kara|        IT| 12701|                24|\n",
      "|      1020|  Alice|        IT| 14655|                18|\n",
      "+----------+-------+----------+------+------------------+\n",
      "only showing top 20 rows\n",
      "\n"
     ]
    }
   ],
   "source": [
    "# Display schema and first few rows.\n",
    "df.printSchema()\n",
    "df.show() # shows top 20 rows, we can choose the number"
   ]
  },
  {
   "cell_type": "code",
   "execution_count": null,
   "metadata": {},
   "outputs": [
    {
     "name": "stdout",
     "output_type": "stream",
     "text": [
      "+----------+-------+----------+------+------------------+\n",
      "|EmployeeID|   Name|Department|Salary|Experience (Years)|\n",
      "+----------+-------+----------+------+------------------+\n",
      "|      1001|  Frank|        IT|  8231|                20|\n",
      "|      1003|  Alice| Marketing|  9334|                11|\n",
      "|      1004|  David|     Sales| 14785|                 8|\n",
      "|      1005|   Kara|Operations|  8301|                13|\n",
      "|      1006|Charlie|Operations|  5720|                28|\n",
      "|      1008|   Liam|   Finance|  9243|                15|\n",
      "|      1009|    Bob|   Finance| 11775|                 5|\n",
      "|      1010|    Bob|Operations|  6456|                27|\n",
      "|      1011| Hannah|        IT|  6457|                15|\n",
      "|      1012|Charlie|        HR| 11244|                29|\n",
      "|      1013|  Alice| Marketing|  8875|                16|\n",
      "|      1014|  Frank|Operations|  7422|                28|\n",
      "|      1016|  David|   Finance|  7087|                24|\n",
      "|      1018|    Bob|     Sales| 11012|                17|\n",
      "|      1019|   Kara|        IT| 12701|                24|\n",
      "|      1020|  Alice|        IT| 14655|                18|\n",
      "|      1021|   Liam|        IT| 13081|                 7|\n",
      "|      1022|  Alice|        IT|  6022|                14|\n",
      "|      1023|    Ian|        HR| 14762|                15|\n",
      "|      1024|  Grace|Operations|  5786|                 2|\n",
      "+----------+-------+----------+------+------------------+\n",
      "only showing top 20 rows\n",
      "\n"
     ]
    }
   ],
   "source": [
    "# Filter employees with a salary greater than 5000.\n",
    "salaryMore5000 = df.filter(df.Salary > 5000)\n",
    "salaryMore5000.show()"
   ]
  },
  {
   "cell_type": "code",
   "execution_count": null,
   "metadata": {},
   "outputs": [
    {
     "name": "stdout",
     "output_type": "stream",
     "text": [
      "+----------+-----------------+\n",
      "|Department|   Average Salary|\n",
      "+----------+-----------------+\n",
      "|     Sales|8680.865030674846|\n",
      "|        HR| 8596.44642857143|\n",
      "|   Finance|9233.802259887005|\n",
      "| Marketing|8708.290909090909|\n",
      "|        IT|8790.344827586207|\n",
      "|Operations|8879.686274509804|\n",
      "+----------+-----------------+\n",
      "\n"
     ]
    }
   ],
   "source": [
    "# Calculate the average salary per department.\n",
    "averageSalaryDepartment = df.groupBy(\"Department\").agg(avg(\"Salary\").alias(\"Average Salary\")) # with column renamed\n",
    "averageSalaryDepartment.show()"
   ]
  },
  {
   "cell_type": "code",
   "execution_count": 17,
   "metadata": {},
   "outputs": [
    {
     "name": "stdout",
     "output_type": "stream",
     "text": [
      "+----------+-----+----------+------+------------------+\n",
      "|EmployeeID| Name|Department|Salary|Experience (Years)|\n",
      "+----------+-----+----------+------+------------------+\n",
      "|      1271|David|   Finance| 14928|                27|\n",
      "|      1763|Frank|        HR| 14999|                29|\n",
      "|      1638|Alice|        IT| 14859|                 2|\n",
      "|      1953|Alice| Marketing| 14938|                30|\n",
      "|      1924|  Eve|Operations| 14978|                29|\n",
      "|      1607|  Bob|     Sales| 14974|                11|\n",
      "+----------+-----+----------+------+------------------+\n",
      "\n"
     ]
    }
   ],
   "source": [
    "# Find the employee with the highest salary in each department.\n",
    "\n",
    "# employeeHighSalaryDepartment = df.groupBy(\"Department\").agg(max(\"Salary\").alias(\"Max Salary\")) # after this we need to do a join to get the employees\n",
    "\n",
    "# with window function is more eficient for large data volumes\n",
    "window = Window.partitionBy(\"Department\").orderBy(col(\"Salary\").desc())\n",
    "\n",
    "employeeHighSalaryDepartment = df.withColumn(\"rank\", rank().over(window)).filter(col(\"rank\") == 1).drop(\"rank\")\n",
    "employeeHighSalaryDepartment.show()"
   ]
  },
  {
   "cell_type": "code",
   "execution_count": null,
   "metadata": {},
   "outputs": [
    {
     "name": "stdout",
     "output_type": "stream",
     "text": [
      "+----------+-------+----------+------+------------------+---------------+\n",
      "|EmployeeID|   Name|Department|Salary|Experience (Years)|Salary Increase|\n",
      "+----------+-------+----------+------+------------------+---------------+\n",
      "|      1001|  Frank|        IT|  8231|                20|         9054.1|\n",
      "|      1002|  Alice|        HR|  3716|                23|         4087.6|\n",
      "|      1003|  Alice| Marketing|  9334|                11|        10267.4|\n",
      "|      1004|  David|     Sales| 14785|                 8|        16263.5|\n",
      "|      1005|   Kara|Operations|  8301|                13|         9131.1|\n",
      "|      1006|Charlie|Operations|  5720|                28|         6292.0|\n",
      "|      1007|    Eve|        IT|  4801|                 4|         4801.0|\n",
      "|      1008|   Liam|   Finance|  9243|                15|        10167.3|\n",
      "|      1009|    Bob|   Finance| 11775|                 5|        11775.0|\n",
      "|      1010|    Bob|Operations|  6456|                27|         7101.6|\n",
      "|      1011| Hannah|        IT|  6457|                15|         7102.7|\n",
      "|      1012|Charlie|        HR| 11244|                29|        12368.4|\n",
      "|      1013|  Alice| Marketing|  8875|                16|         9762.5|\n",
      "|      1014|  Frank|Operations|  7422|                28|         8164.2|\n",
      "|      1015|Charlie|        HR|  4539|                 8|         4992.9|\n",
      "|      1016|  David|   Finance|  7087|                24|         7795.7|\n",
      "|      1017|   Jack|        HR|  4195|                15|         4614.5|\n",
      "|      1018|    Bob|     Sales| 11012|                17|        12113.2|\n",
      "|      1019|   Kara|        IT| 12701|                24|        13971.1|\n",
      "|      1020|  Alice|        IT| 14655|                18|        16120.5|\n",
      "+----------+-------+----------+------+------------------+---------------+\n",
      "only showing top 20 rows\n",
      "\n"
     ]
    }
   ],
   "source": [
    "# Add a new column [Salary Increase] which increases salaries by 10% for employees with more than 5 years of experience.\n",
    "df = df.withColumn(\"Salary Increase\", when(col(\"Experience (Years)\") > 5, col(\"Salary\") + (col(\"Salary\") * 0.10)).otherwise(col(\"Salary\")))\n",
    "df.show()"
   ]
  },
  {
   "cell_type": "code",
   "execution_count": null,
   "metadata": {},
   "outputs": [
    {
     "name": "stdout",
     "output_type": "stream",
     "text": [
      "+----------+-------+----------+------+------------------+---------------+\n",
      "|EmployeeID|   Name|Department|Salary|Experience (Years)|Salary Increase|\n",
      "+----------+-------+----------+------+------------------+---------------+\n",
      "|      1090|  Alice| Marketing|  9467|                30|        10413.7|\n",
      "|      1139|   Liam|     Sales|  5967|                30|         6563.7|\n",
      "|      1111|    Ian|     Sales|  6763|                30|         7439.3|\n",
      "|      1112|   Kara|        IT|  5926|                30|         6518.6|\n",
      "|      1081|Charlie|     Sales| 10647|                30|        11711.7|\n",
      "+----------+-------+----------+------+------------------+---------------+\n",
      "only showing top 5 rows\n",
      "\n"
     ]
    }
   ],
   "source": [
    "# Sort the employees by experience in descending order and show the top 5.\n",
    "experienceSort = df.orderBy(col(\"Experience (Years)\").desc())\n",
    "experienceSort.show(5)"
   ]
  }
 ],
 "metadata": {
  "kernelspec": {
   "display_name": "fcd",
   "language": "python",
   "name": "python3"
  },
  "language_info": {
   "codemirror_mode": {
    "name": "ipython",
    "version": 3
   },
   "file_extension": ".py",
   "mimetype": "text/x-python",
   "name": "python",
   "nbconvert_exporter": "python",
   "pygments_lexer": "ipython3",
   "version": "3.12.6"
  }
 },
 "nbformat": 4,
 "nbformat_minor": 2
}
