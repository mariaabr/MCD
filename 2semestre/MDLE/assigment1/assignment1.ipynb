{
 "cells": [
  {
   "cell_type": "markdown",
   "metadata": {},
   "source": [
    "# **Assignment #1 - Reproducibility**\n",
    "#### **Mining Large Scale Datasets 2024/2025**\n",
    "#### Maria Rafaela Abrunhosa 107558\n",
    "\n",
    "## Context and Motivation\n",
    "This project aims to reproduce an application of a data mining process, published in a scientific venue [1]. We focus on replicating the predictive modelling as part of the data mining process.\\\n",
    "THe published paper used as a guide to this data mining process reproduction, presents two malware feature datasets on two different platforms to support validation of the effectiveness of a malware detection method.\n",
    "\n",
    "The article consists of three contributions, starting with the development of two structures for creating datasets for malware for Windows and Android, by extracting features from malware analysis reports to create two datasets of malware features and, an evaluation of the usefulness of the datasets. However, in this work we will only attempt to reproduce the third point of evaluating the usefulness of the datasets in a supervised framework, as we have no way of replicating steps 1 and 2 of the article.\n",
    "\n",
    "### What is reproducibility?\n",
    "Reproducibility is the ability of a researcher to replicate the results of a previous study using the same materials that the original researcher used to try to get the same results as the previous study [2].\n",
    "\n",
    "## Dataset and Pre-processing\n",
    "First of all, it's important to note that the previous study has two datasets of malware characteristics, one for Windows malware and the other for Android malware, TUMALWD and TUANDROMD respectively. However, for the purposes of this reproduction, we'll only use the TUANDROMD dataset, as it was the only one provided and we couldn't find the other or anything identical.\n",
    "\n",
    "#### Imports"
   ]
  },
  {
   "cell_type": "code",
   "execution_count": 45,
   "metadata": {},
   "outputs": [],
   "source": [
    "import pandas as pd\n",
    "import numpy as np\n",
    "import matplotlib.pyplot as plt\n",
    "from sklearn.model_selection import train_test_split\n",
    "from sklearn.ensemble import RandomForestClassifier"
   ]
  },
  {
   "cell_type": "code",
   "execution_count": 46,
   "metadata": {},
   "outputs": [
    {
     "data": {
      "application/vnd.microsoft.datawrangler.viewer.v0+json": {
       "columns": [
        {
         "name": "index",
         "rawType": "int64",
         "type": "integer"
        },
        {
         "name": "ACCESS_ALL_DOWNLOADS",
         "rawType": "float64",
         "type": "float"
        },
        {
         "name": "ACCESS_CACHE_FILESYSTEM",
         "rawType": "float64",
         "type": "float"
        },
        {
         "name": "ACCESS_CHECKIN_PROPERTIES",
         "rawType": "float64",
         "type": "float"
        },
        {
         "name": "ACCESS_COARSE_LOCATION",
         "rawType": "float64",
         "type": "float"
        },
        {
         "name": "ACCESS_COARSE_UPDATES",
         "rawType": "float64",
         "type": "float"
        },
        {
         "name": "ACCESS_FINE_LOCATION",
         "rawType": "float64",
         "type": "float"
        },
        {
         "name": "ACCESS_LOCATION_EXTRA_COMMANDS",
         "rawType": "float64",
         "type": "float"
        },
        {
         "name": "ACCESS_MOCK_LOCATION",
         "rawType": "float64",
         "type": "float"
        },
        {
         "name": "ACCESS_MTK_MMHW",
         "rawType": "float64",
         "type": "float"
        },
        {
         "name": "ACCESS_NETWORK_STATE",
         "rawType": "float64",
         "type": "float"
        },
        {
         "name": "ACCESS_PROVIDER",
         "rawType": "float64",
         "type": "float"
        },
        {
         "name": "ACCESS_SERVICE",
         "rawType": "float64",
         "type": "float"
        },
        {
         "name": "ACCESS_SHARED_DATA",
         "rawType": "float64",
         "type": "float"
        },
        {
         "name": "ACCESS_SUPERUSER",
         "rawType": "float64",
         "type": "float"
        },
        {
         "name": "ACCESS_SURFACE_FLINGER",
         "rawType": "float64",
         "type": "float"
        },
        {
         "name": "ACCESS_WIFI_STATE",
         "rawType": "float64",
         "type": "float"
        },
        {
         "name": "activityCalled",
         "rawType": "float64",
         "type": "float"
        },
        {
         "name": "ACTIVITY_RECOGNITION",
         "rawType": "float64",
         "type": "float"
        },
        {
         "name": "ACCOUNT_MANAGER",
         "rawType": "float64",
         "type": "float"
        },
        {
         "name": "ADD_VOICEMAIL",
         "rawType": "float64",
         "type": "float"
        },
        {
         "name": "ANT",
         "rawType": "float64",
         "type": "float"
        },
        {
         "name": "ANT_ADMIN",
         "rawType": "float64",
         "type": "float"
        },
        {
         "name": "AUTHENTICATE_ACCOUNTS",
         "rawType": "float64",
         "type": "float"
        },
        {
         "name": "AUTORUN_MANAGER_LICENSE_MANAGER",
         "rawType": "float64",
         "type": "float"
        },
        {
         "name": "AUTORUN_MANAGER_LICENSE_SERVICE(.autorun)",
         "rawType": "float64",
         "type": "float"
        },
        {
         "name": "BATTERY_STATS",
         "rawType": "float64",
         "type": "float"
        },
        {
         "name": "BILLING",
         "rawType": "float64",
         "type": "float"
        },
        {
         "name": "BIND_ACCESSIBILITY_SERVICE",
         "rawType": "float64",
         "type": "float"
        },
        {
         "name": "BIND_APPWIDGET",
         "rawType": "float64",
         "type": "float"
        },
        {
         "name": "BIND_CARRIER_MESSAGING_SERVICE",
         "rawType": "float64",
         "type": "float"
        },
        {
         "name": "BIND_DEVICE_ADMIN",
         "rawType": "float64",
         "type": "float"
        },
        {
         "name": "BIND_DREAM_SERVICE",
         "rawType": "float64",
         "type": "float"
        },
        {
         "name": "BIND_GET_INSTALL_REFERRER_SERVICE",
         "rawType": "float64",
         "type": "float"
        },
        {
         "name": "BIND_INPUT_METHOD",
         "rawType": "float64",
         "type": "float"
        },
        {
         "name": "BIND_NFC_SERVICE",
         "rawType": "float64",
         "type": "float"
        },
        {
         "name": "BIND_goodwareTIFICATION_LISTENER_SERVICE",
         "rawType": "float64",
         "type": "float"
        },
        {
         "name": "BIND_PRINT_SERVICE",
         "rawType": "float64",
         "type": "float"
        },
        {
         "name": "BIND_REMOTEVIEWS",
         "rawType": "float64",
         "type": "float"
        },
        {
         "name": "BIND_TEXT_SERVICE",
         "rawType": "float64",
         "type": "float"
        },
        {
         "name": "BIND_TV_INPUT",
         "rawType": "float64",
         "type": "float"
        },
        {
         "name": "BIND_VOICE_INTERACTION",
         "rawType": "float64",
         "type": "float"
        },
        {
         "name": "BIND_VPN_SERVICE",
         "rawType": "float64",
         "type": "float"
        },
        {
         "name": "BIND_WALLPAPER",
         "rawType": "float64",
         "type": "float"
        },
        {
         "name": "BLUETOOTH",
         "rawType": "float64",
         "type": "float"
        },
        {
         "name": "BLUETOOTH_ADMIN",
         "rawType": "float64",
         "type": "float"
        },
        {
         "name": "BLUETOOTH_PRIVILEGED",
         "rawType": "float64",
         "type": "float"
        },
        {
         "name": "BODY_SENSORS",
         "rawType": "float64",
         "type": "float"
        },
        {
         "name": "BRICK",
         "rawType": "float64",
         "type": "float"
        },
        {
         "name": "BROADCAST_PACKAGE_REMOVED",
         "rawType": "float64",
         "type": "float"
        },
        {
         "name": "BROADCAST_SMS",
         "rawType": "float64",
         "type": "float"
        },
        {
         "name": "BROADCAST_STICKY",
         "rawType": "float64",
         "type": "float"
        },
        {
         "name": "BROADCAST_WAP_PUSH",
         "rawType": "float64",
         "type": "float"
        },
        {
         "name": "C2D_MESSAGE",
         "rawType": "float64",
         "type": "float"
        },
        {
         "name": "CALL_PHONE",
         "rawType": "float64",
         "type": "float"
        },
        {
         "name": "CALL_PRIVILEGED",
         "rawType": "float64",
         "type": "float"
        },
        {
         "name": "CAMERA",
         "rawType": "float64",
         "type": "float"
        },
        {
         "name": "CAPTURE_AUDIO_OUTPUT",
         "rawType": "float64",
         "type": "float"
        },
        {
         "name": "CAPTURE_SECURE_VIDEO_OUTPUT",
         "rawType": "float64",
         "type": "float"
        },
        {
         "name": "CAPTURE_VIDEO_OUTPUT",
         "rawType": "float64",
         "type": "float"
        },
        {
         "name": "CHANGE_COMPONENT_ENABLED_STATE",
         "rawType": "float64",
         "type": "float"
        },
        {
         "name": "CHANGE_CONFIGURATION",
         "rawType": "float64",
         "type": "float"
        },
        {
         "name": "CHANGE_DISPLAY_MODE",
         "rawType": "float64",
         "type": "float"
        },
        {
         "name": "CHANGE_NETWORK_STATE",
         "rawType": "float64",
         "type": "float"
        },
        {
         "name": "CHANGE_WIFI_MULTICAST_STATE",
         "rawType": "float64",
         "type": "float"
        },
        {
         "name": "CHANGE_WIFI_STATE",
         "rawType": "float64",
         "type": "float"
        },
        {
         "name": "CHECK_LICENSE",
         "rawType": "float64",
         "type": "float"
        },
        {
         "name": "CLEAR_APP_CACHE",
         "rawType": "float64",
         "type": "float"
        },
        {
         "name": "CLEAR_APP_USER_DATA",
         "rawType": "float64",
         "type": "float"
        },
        {
         "name": "CONTROL_LOCATION_UPDATES",
         "rawType": "float64",
         "type": "float"
        },
        {
         "name": "DATABASE_INTERFACE_SERVICE",
         "rawType": "float64",
         "type": "float"
        },
        {
         "name": "DELETE_CACHE_FILES",
         "rawType": "float64",
         "type": "float"
        },
        {
         "name": "DELETE_PACKAGES",
         "rawType": "float64",
         "type": "float"
        },
        {
         "name": "DEVICE_POWER",
         "rawType": "float64",
         "type": "float"
        },
        {
         "name": "DIAGgoodwareSTIC",
         "rawType": "float64",
         "type": "float"
        },
        {
         "name": "DISABLE_KEYGUARD",
         "rawType": "float64",
         "type": "float"
        },
        {
         "name": "DOWNLOAD_SERVICE",
         "rawType": "float64",
         "type": "float"
        },
        {
         "name": "DOWNLOAD_WITHOUT_goodwareTIFICATION",
         "rawType": "float64",
         "type": "float"
        },
        {
         "name": "DUMP",
         "rawType": "float64",
         "type": "float"
        },
        {
         "name": "EXPAND_STATUS_BAR",
         "rawType": "float64",
         "type": "float"
        },
        {
         "name": "EXTENSION_PERMISSION",
         "rawType": "float64",
         "type": "float"
        },
        {
         "name": "FACTORY_TEST",
         "rawType": "float64",
         "type": "float"
        },
        {
         "name": "FLASHLIGHT",
         "rawType": "float64",
         "type": "float"
        },
        {
         "name": "FORCE_BACK",
         "rawType": "float64",
         "type": "float"
        },
        {
         "name": "FULLSCREEN.FULL",
         "rawType": "float64",
         "type": "float"
        },
        {
         "name": "GET_ACCOUNTS",
         "rawType": "float64",
         "type": "float"
        },
        {
         "name": "GET_PACKAGE_SIZE",
         "rawType": "float64",
         "type": "float"
        },
        {
         "name": "GET_TASKS",
         "rawType": "float64",
         "type": "float"
        },
        {
         "name": "GET_TOP_ACTIVITY_INFO",
         "rawType": "float64",
         "type": "float"
        },
        {
         "name": "GLOBAL_SEARCH",
         "rawType": "float64",
         "type": "float"
        },
        {
         "name": "GOOGLE_AUTH",
         "rawType": "float64",
         "type": "float"
        },
        {
         "name": "GOOGLE_PHOTOS",
         "rawType": "float64",
         "type": "float"
        },
        {
         "name": "HARDWARE_TEST",
         "rawType": "float64",
         "type": "float"
        },
        {
         "name": "INJECT_EVENTS",
         "rawType": "float64",
         "type": "float"
        },
        {
         "name": "INSTALL_LOCATION_PROVIDER",
         "rawType": "float64",
         "type": "float"
        },
        {
         "name": "INSTALL_PACKAGES",
         "rawType": "float64",
         "type": "float"
        },
        {
         "name": "INSTALL_SHORTCUT",
         "rawType": "float64",
         "type": "float"
        },
        {
         "name": "INTERACT_ACROSS_USERS",
         "rawType": "float64",
         "type": "float"
        },
        {
         "name": "INTERNAL_SYSTEM_WINDOW",
         "rawType": "float64",
         "type": "float"
        },
        {
         "name": "INTERNET",
         "rawType": "float64",
         "type": "float"
        },
        {
         "name": "JPUSH_MESSAGE",
         "rawType": "float64",
         "type": "float"
        },
        {
         "name": "KILL_BACKGROUND_PROCESSES",
         "rawType": "float64",
         "type": "float"
        },
        {
         "name": "LOCATION_HARDWARE",
         "rawType": "float64",
         "type": "float"
        },
        {
         "name": "MANAGE_ACCOUNTS",
         "rawType": "float64",
         "type": "float"
        },
        {
         "name": "MANAGE_APP_TOKENS",
         "rawType": "float64",
         "type": "float"
        },
        {
         "name": "MANAGE_DOCUMENTS",
         "rawType": "float64",
         "type": "float"
        },
        {
         "name": "MAPS_RECEIVE",
         "rawType": "float64",
         "type": "float"
        },
        {
         "name": "MASTER_CLEAR",
         "rawType": "float64",
         "type": "float"
        },
        {
         "name": "MEDIA_BUTTON",
         "rawType": "float64",
         "type": "float"
        },
        {
         "name": "MEDIA_CONTENT_CONTROL",
         "rawType": "float64",
         "type": "float"
        },
        {
         "name": "MESSAGE",
         "rawType": "float64",
         "type": "float"
        },
        {
         "name": "MODIFY_AUDIO_SETTINGS",
         "rawType": "float64",
         "type": "float"
        },
        {
         "name": "MODIFY_PHONE_STATE",
         "rawType": "float64",
         "type": "float"
        },
        {
         "name": "MOUNT_FORMAT_FILESYSTEMS",
         "rawType": "float64",
         "type": "float"
        },
        {
         "name": "MOUNT_UNMOUNT_FILESYSTEMS",
         "rawType": "float64",
         "type": "float"
        },
        {
         "name": "NFC",
         "rawType": "float64",
         "type": "float"
        },
        {
         "name": "PERSISTENT_ACTIVITY",
         "rawType": "float64",
         "type": "float"
        },
        {
         "name": "PERMISSION",
         "rawType": "float64",
         "type": "float"
        },
        {
         "name": "PERMISSION_RUN_TASKS",
         "rawType": "float64",
         "type": "float"
        },
        {
         "name": "PLUGIN",
         "rawType": "float64",
         "type": "float"
        },
        {
         "name": "PROCESS_OUTGOING_CALLS",
         "rawType": "float64",
         "type": "float"
        },
        {
         "name": "READ",
         "rawType": "float64",
         "type": "float"
        },
        {
         "name": "READ_ATTACHMENT",
         "rawType": "float64",
         "type": "float"
        },
        {
         "name": "READ_AVESTTINGS",
         "rawType": "float64",
         "type": "float"
        },
        {
         "name": "READ_CALENDAR",
         "rawType": "float64",
         "type": "float"
        },
        {
         "name": "READ_CALL_LOG",
         "rawType": "float64",
         "type": "float"
        },
        {
         "name": "READ_CONTACTS",
         "rawType": "float64",
         "type": "float"
        },
        {
         "name": "READ_CONTENT_PROVIDER",
         "rawType": "float64",
         "type": "float"
        },
        {
         "name": "READ_DATA",
         "rawType": "float64",
         "type": "float"
        },
        {
         "name": "READ_DATABASES",
         "rawType": "float64",
         "type": "float"
        },
        {
         "name": "READ_EXTERNAL_STORAGE",
         "rawType": "float64",
         "type": "float"
        },
        {
         "name": "READ_FRAME_BUFFER",
         "rawType": "float64",
         "type": "float"
        },
        {
         "name": "READ_GMAIL",
         "rawType": "float64",
         "type": "float"
        },
        {
         "name": "READ_GSERVICES",
         "rawType": "float64",
         "type": "float"
        },
        {
         "name": "READ_HISTORY_BOOKMARKS",
         "rawType": "float64",
         "type": "float"
        },
        {
         "name": "READ_INPUT_STATE",
         "rawType": "float64",
         "type": "float"
        },
        {
         "name": "READ_LOGS",
         "rawType": "float64",
         "type": "float"
        },
        {
         "name": "READ_MESSAGES",
         "rawType": "float64",
         "type": "float"
        },
        {
         "name": "READ_OWNER_DATA",
         "rawType": "float64",
         "type": "float"
        },
        {
         "name": "READ_PHONE_STATE",
         "rawType": "float64",
         "type": "float"
        },
        {
         "name": "READ_PROFILE",
         "rawType": "float64",
         "type": "float"
        },
        {
         "name": "READ_SETTINGS",
         "rawType": "float64",
         "type": "float"
        },
        {
         "name": "READ_SMS",
         "rawType": "float64",
         "type": "float"
        },
        {
         "name": "READ_SOCIAL_STREAM",
         "rawType": "float64",
         "type": "float"
        },
        {
         "name": "READ_SYNC_SETTINGS",
         "rawType": "float64",
         "type": "float"
        },
        {
         "name": "READ_SYNC_STATS",
         "rawType": "float64",
         "type": "float"
        },
        {
         "name": "READ_USER_DICTIONARY",
         "rawType": "float64",
         "type": "float"
        },
        {
         "name": "READ_VOICEMAIL",
         "rawType": "float64",
         "type": "float"
        },
        {
         "name": "REBOOT",
         "rawType": "float64",
         "type": "float"
        },
        {
         "name": "RECEIVE",
         "rawType": "float64",
         "type": "float"
        },
        {
         "name": "RECEIVE_BOOT_COMPLETED",
         "rawType": "float64",
         "type": "float"
        },
        {
         "name": "RECEIVE_MMS",
         "rawType": "float64",
         "type": "float"
        },
        {
         "name": "RECEIVE_SIGNED_DATA_RESULT",
         "rawType": "float64",
         "type": "float"
        },
        {
         "name": "RECEIVE_SMS",
         "rawType": "float64",
         "type": "float"
        },
        {
         "name": "RECEIVE_USER_PRESENT",
         "rawType": "float64",
         "type": "float"
        },
        {
         "name": "RECEIVE_WAP_PUSH",
         "rawType": "float64",
         "type": "float"
        },
        {
         "name": "RECORD_AUDIO",
         "rawType": "float64",
         "type": "float"
        },
        {
         "name": "REORDER_TASKS",
         "rawType": "float64",
         "type": "float"
        },
        {
         "name": "RESPOND",
         "rawType": "float64",
         "type": "float"
        },
        {
         "name": "RESTART_PACKAGES",
         "rawType": "float64",
         "type": "float"
        },
        {
         "name": "REQUEST",
         "rawType": "float64",
         "type": "float"
        },
        {
         "name": "SDCARD_WRITE",
         "rawType": "float64",
         "type": "float"
        },
        {
         "name": "SEND",
         "rawType": "float64",
         "type": "float"
        },
        {
         "name": "SEND_RESPOND_VIA_MESSAGE",
         "rawType": "float64",
         "type": "float"
        },
        {
         "name": "SEND_SMS",
         "rawType": "float64",
         "type": "float"
        },
        {
         "name": "SET_ACTIVITY_WATCHER",
         "rawType": "float64",
         "type": "float"
        },
        {
         "name": "SET_ALARM",
         "rawType": "float64",
         "type": "float"
        },
        {
         "name": "SET_ALWAYS_FINISH",
         "rawType": "float64",
         "type": "float"
        },
        {
         "name": "SET_ANIMATION_SCALE",
         "rawType": "float64",
         "type": "float"
        },
        {
         "name": "SET_DEBUG_APP",
         "rawType": "float64",
         "type": "float"
        },
        {
         "name": "SET_ORIENTATION",
         "rawType": "float64",
         "type": "float"
        },
        {
         "name": "SET_POINTER_SPEED",
         "rawType": "float64",
         "type": "float"
        },
        {
         "name": "SET_PREFERRED_APPLICATIONS",
         "rawType": "float64",
         "type": "float"
        },
        {
         "name": "SET_PROCESS_LIMIT",
         "rawType": "float64",
         "type": "float"
        },
        {
         "name": "SET_TIME",
         "rawType": "float64",
         "type": "float"
        },
        {
         "name": "SET_TIME_ZONE",
         "rawType": "float64",
         "type": "float"
        },
        {
         "name": "SET_WALLPAPER",
         "rawType": "float64",
         "type": "float"
        },
        {
         "name": "SET_WALLPAPER_HINTS",
         "rawType": "float64",
         "type": "float"
        },
        {
         "name": "SIGNAL_PERSISTENT_PROCESSES",
         "rawType": "float64",
         "type": "float"
        },
        {
         "name": "STATUS_BAR",
         "rawType": "float64",
         "type": "float"
        },
        {
         "name": "STORAGE",
         "rawType": "float64",
         "type": "float"
        },
        {
         "name": "SUBSCRIBED_FEEDS_READ",
         "rawType": "float64",
         "type": "float"
        },
        {
         "name": "SUBSCRIBED_FEEDS_WRITE",
         "rawType": "float64",
         "type": "float"
        },
        {
         "name": "SYSTEM_ALERT_WINDOW",
         "rawType": "float64",
         "type": "float"
        },
        {
         "name": "TRANSMIT_IR",
         "rawType": "float64",
         "type": "float"
        },
        {
         "name": "UNINSTALL_SHORTCUT",
         "rawType": "float64",
         "type": "float"
        },
        {
         "name": "UPDATE_DEVICE_STATS",
         "rawType": "float64",
         "type": "float"
        },
        {
         "name": "USES_POLICY_FORCE_LOCK",
         "rawType": "float64",
         "type": "float"
        },
        {
         "name": "USE_CREDENTIALS",
         "rawType": "float64",
         "type": "float"
        },
        {
         "name": "USE_FINGERPRINT",
         "rawType": "float64",
         "type": "float"
        },
        {
         "name": "USE_SIP",
         "rawType": "float64",
         "type": "float"
        },
        {
         "name": "VIBRATE",
         "rawType": "float64",
         "type": "float"
        },
        {
         "name": "WAKE_LOCK",
         "rawType": "float64",
         "type": "float"
        },
        {
         "name": "WRITE",
         "rawType": "float64",
         "type": "float"
        },
        {
         "name": "WRITE_APN_SETTINGS",
         "rawType": "float64",
         "type": "float"
        },
        {
         "name": "WRITE_AVSETTING",
         "rawType": "float64",
         "type": "float"
        },
        {
         "name": "WRITE_CALENDAR",
         "rawType": "float64",
         "type": "float"
        },
        {
         "name": "WRITE_CALL_LOG",
         "rawType": "float64",
         "type": "float"
        },
        {
         "name": "WRITE_CONTACTS",
         "rawType": "float64",
         "type": "float"
        },
        {
         "name": "WRITE_DATA",
         "rawType": "float64",
         "type": "float"
        },
        {
         "name": "WRITE_DATABASES",
         "rawType": "float64",
         "type": "float"
        },
        {
         "name": "WRITE_EXTERNAL_STORAGE",
         "rawType": "float64",
         "type": "float"
        },
        {
         "name": "WRITE_GSERVICES",
         "rawType": "float64",
         "type": "float"
        },
        {
         "name": "WRITE_HISTORY_BOOKMARKS",
         "rawType": "float64",
         "type": "float"
        },
        {
         "name": "WRITE_INTERNAL_STORAGE",
         "rawType": "float64",
         "type": "float"
        },
        {
         "name": "WRITE_MEDIA_STORAGE",
         "rawType": "float64",
         "type": "float"
        },
        {
         "name": "WRITE_OWNER_DATA",
         "rawType": "float64",
         "type": "float"
        },
        {
         "name": "WRITE_PROFILE",
         "rawType": "float64",
         "type": "float"
        },
        {
         "name": "WRITE_SECURE_SETTINGS",
         "rawType": "float64",
         "type": "float"
        },
        {
         "name": "WRITE_SETTINGS",
         "rawType": "float64",
         "type": "float"
        },
        {
         "name": "WRITE_SMS",
         "rawType": "float64",
         "type": "float"
        },
        {
         "name": "WRITE_SOCIAL_STREAM",
         "rawType": "float64",
         "type": "float"
        },
        {
         "name": "WRITE_SYNC_SETTINGS",
         "rawType": "float64",
         "type": "float"
        },
        {
         "name": "WRITE_USER_DICTIONARY",
         "rawType": "float64",
         "type": "float"
        },
        {
         "name": "WRITE_VOICEMAIL",
         "rawType": "float64",
         "type": "float"
        },
        {
         "name": "Ljava/lang/reflect/Method;->invoke",
         "rawType": "float64",
         "type": "float"
        },
        {
         "name": "Ljavax/crypto/Cipher;->doFinal",
         "rawType": "float64",
         "type": "float"
        },
        {
         "name": "Ljava/lang/Runtime;->exec",
         "rawType": "float64",
         "type": "float"
        },
        {
         "name": "Ljava/lang/System;->load",
         "rawType": "float64",
         "type": "float"
        },
        {
         "name": "Ldalvik/system/DexClassLoader;->loadClass",
         "rawType": "float64",
         "type": "float"
        },
        {
         "name": "Ljava/lang/System;->loadLibrary",
         "rawType": "float64",
         "type": "float"
        },
        {
         "name": "Ljava/net/URL;->openConnection",
         "rawType": "float64",
         "type": "float"
        },
        {
         "name": "Landroid/hardware/Camera;->open",
         "rawType": "float64",
         "type": "float"
        },
        {
         "name": "Landroid/hardware/Camera;->takePicture",
         "rawType": "float64",
         "type": "float"
        },
        {
         "name": "Landroid/telephony/SmsManager;->sendMultipartTextMessage",
         "rawType": "float64",
         "type": "float"
        },
        {
         "name": "Landroid/telephony/SmsManager;->sendTextMessage",
         "rawType": "float64",
         "type": "float"
        },
        {
         "name": "Landroid/media/AudioRecord;->startRecording",
         "rawType": "float64",
         "type": "float"
        },
        {
         "name": "Landroid/telephony/TelephonyManager;->getCellLocation",
         "rawType": "float64",
         "type": "float"
        },
        {
         "name": "Lcom/google/android/gms/location/LocationClient;->getLastLocation",
         "rawType": "float64",
         "type": "float"
        },
        {
         "name": "Landroid/location/LocationManager;->getLastKgoodwarewnLocation",
         "rawType": "float64",
         "type": "float"
        },
        {
         "name": "Landroid/telephony/TelephonyManager;->getDeviceId",
         "rawType": "float64",
         "type": "float"
        },
        {
         "name": "Landroid/content/pm/PackageManager;->getInstalledApplications",
         "rawType": "float64",
         "type": "float"
        },
        {
         "name": "Landroid/content/pm/PackageManager;->getInstalledPackages",
         "rawType": "float64",
         "type": "float"
        },
        {
         "name": "Landroid/telephony/TelephonyManager;->getLine1Number",
         "rawType": "float64",
         "type": "float"
        },
        {
         "name": "Landroid/telephony/TelephonyManager;->getNetworkOperator",
         "rawType": "float64",
         "type": "float"
        },
        {
         "name": "Landroid/telephony/TelephonyManager;->getNetworkOperatorName",
         "rawType": "float64",
         "type": "float"
        },
        {
         "name": "Landroid/telephony/TelephonyManager;->getNetworkCountryIso",
         "rawType": "float64",
         "type": "float"
        },
        {
         "name": "Landroid/telephony/TelephonyManager;->getSimOperator",
         "rawType": "float64",
         "type": "float"
        },
        {
         "name": "Landroid/telephony/TelephonyManager;->getSimOperatorName",
         "rawType": "float64",
         "type": "float"
        },
        {
         "name": "Landroid/telephony/TelephonyManager;->getSimCountryIso",
         "rawType": "float64",
         "type": "float"
        },
        {
         "name": "Landroid/telephony/TelephonyManager;->getSimSerialNumber",
         "rawType": "float64",
         "type": "float"
        },
        {
         "name": "Lorg/apache/http/impl/client/DefaultHttpClient;->execute",
         "rawType": "float64",
         "type": "float"
        },
        {
         "name": "Label",
         "rawType": "object",
         "type": "string"
        }
       ],
       "conversionMethod": "pd.DataFrame",
       "ref": "b15ae019-c925-4f19-b6e9-de7a9344bd67",
       "rows": [
        [
         "0",
         "0.0",
         "0.0",
         "0.0",
         "0.0",
         "0.0",
         "0.0",
         "0.0",
         "0.0",
         "0.0",
         "1.0",
         "0.0",
         "0.0",
         "0.0",
         "0.0",
         "0.0",
         "0.0",
         "0.0",
         "0.0",
         "0.0",
         "0.0",
         "0.0",
         "0.0",
         "0.0",
         "0.0",
         "0.0",
         "0.0",
         "0.0",
         "0.0",
         "0.0",
         "0.0",
         "0.0",
         "0.0",
         "0.0",
         "0.0",
         "0.0",
         "0.0",
         "0.0",
         "0.0",
         "0.0",
         "0.0",
         "0.0",
         "0.0",
         "0.0",
         "0.0",
         "0.0",
         "0.0",
         "0.0",
         "0.0",
         "0.0",
         "0.0",
         "0.0",
         "0.0",
         "0.0",
         "0.0",
         "0.0",
         "1.0",
         "0.0",
         "0.0",
         "0.0",
         "0.0",
         "0.0",
         "0.0",
         "0.0",
         "0.0",
         "0.0",
         "0.0",
         "0.0",
         "0.0",
         "0.0",
         "0.0",
         "0.0",
         "0.0",
         "0.0",
         "0.0",
         "0.0",
         "0.0",
         "0.0",
         "0.0",
         "0.0",
         "0.0",
         "0.0",
         "0.0",
         "0.0",
         "0.0",
         "1.0",
         "0.0",
         "1.0",
         "0.0",
         "0.0",
         "0.0",
         "0.0",
         "0.0",
         "0.0",
         "0.0",
         "0.0",
         "0.0",
         "0.0",
         "0.0",
         "1.0",
         "0.0",
         "0.0",
         "0.0",
         "0.0",
         "0.0",
         "0.0",
         "0.0",
         "0.0",
         "0.0",
         "0.0",
         "0.0",
         "0.0",
         "0.0",
         "0.0",
         "0.0",
         "0.0",
         "0.0",
         "0.0",
         "0.0",
         "0.0",
         "0.0",
         "0.0",
         "0.0",
         "0.0",
         "0.0",
         "0.0",
         "1.0",
         "0.0",
         "0.0",
         "0.0",
         "1.0",
         "0.0",
         "0.0",
         "0.0",
         "0.0",
         "0.0",
         "0.0",
         "0.0",
         "0.0",
         "1.0",
         "0.0",
         "0.0",
         "0.0",
         "0.0",
         "0.0",
         "0.0",
         "0.0",
         "0.0",
         "0.0",
         "0.0",
         "1.0",
         "0.0",
         "0.0",
         "0.0",
         "0.0",
         "0.0",
         "0.0",
         "0.0",
         "0.0",
         "0.0",
         "0.0",
         "0.0",
         "0.0",
         "0.0",
         "0.0",
         "0.0",
         "0.0",
         "0.0",
         "0.0",
         "0.0",
         "0.0",
         "0.0",
         "0.0",
         "0.0",
         "0.0",
         "0.0",
         "0.0",
         "0.0",
         "0.0",
         "0.0",
         "0.0",
         "0.0",
         "0.0",
         "1.0",
         "0.0",
         "0.0",
         "0.0",
         "0.0",
         "0.0",
         "0.0",
         "0.0",
         "1.0",
         "1.0",
         "0.0",
         "0.0",
         "0.0",
         "0.0",
         "0.0",
         "0.0",
         "0.0",
         "0.0",
         "1.0",
         "0.0",
         "0.0",
         "0.0",
         "0.0",
         "0.0",
         "0.0",
         "0.0",
         "1.0",
         "0.0",
         "0.0",
         "0.0",
         "0.0",
         "0.0",
         "1.0",
         "1.0",
         "0.0",
         "0.0",
         "0.0",
         "0.0",
         "0.0",
         "1.0",
         "1.0",
         "0.0",
         "0.0",
         "0.0",
         "0.0",
         "0.0",
         "0.0",
         "1.0",
         "0.0",
         "0.0",
         "1.0",
         "1.0",
         "1.0",
         "0.0",
         "0.0",
         "0.0",
         "0.0",
         "0.0",
         "1.0",
         "malware"
        ],
        [
         "1",
         "0.0",
         "0.0",
         "0.0",
         "0.0",
         "0.0",
         "0.0",
         "0.0",
         "0.0",
         "0.0",
         "1.0",
         "0.0",
         "0.0",
         "0.0",
         "0.0",
         "0.0",
         "0.0",
         "0.0",
         "0.0",
         "0.0",
         "0.0",
         "0.0",
         "0.0",
         "0.0",
         "0.0",
         "0.0",
         "1.0",
         "0.0",
         "0.0",
         "0.0",
         "0.0",
         "0.0",
         "0.0",
         "0.0",
         "0.0",
         "0.0",
         "0.0",
         "0.0",
         "0.0",
         "0.0",
         "0.0",
         "0.0",
         "0.0",
         "0.0",
         "0.0",
         "0.0",
         "0.0",
         "0.0",
         "0.0",
         "0.0",
         "0.0",
         "0.0",
         "0.0",
         "0.0",
         "0.0",
         "0.0",
         "0.0",
         "0.0",
         "0.0",
         "0.0",
         "0.0",
         "0.0",
         "0.0",
         "0.0",
         "0.0",
         "0.0",
         "0.0",
         "0.0",
         "0.0",
         "0.0",
         "0.0",
         "0.0",
         "0.0",
         "0.0",
         "0.0",
         "0.0",
         "0.0",
         "0.0",
         "0.0",
         "0.0",
         "0.0",
         "0.0",
         "0.0",
         "0.0",
         "0.0",
         "0.0",
         "0.0",
         "0.0",
         "0.0",
         "0.0",
         "0.0",
         "0.0",
         "0.0",
         "0.0",
         "0.0",
         "0.0",
         "0.0",
         "0.0",
         "0.0",
         "1.0",
         "0.0",
         "0.0",
         "0.0",
         "0.0",
         "0.0",
         "0.0",
         "0.0",
         "0.0",
         "0.0",
         "0.0",
         "0.0",
         "0.0",
         "0.0",
         "0.0",
         "0.0",
         "0.0",
         "0.0",
         "0.0",
         "0.0",
         "0.0",
         "0.0",
         "0.0",
         "0.0",
         "0.0",
         "0.0",
         "0.0",
         "0.0",
         "0.0",
         "0.0",
         "0.0",
         "0.0",
         "0.0",
         "0.0",
         "0.0",
         "0.0",
         "0.0",
         "0.0",
         "0.0",
         "0.0",
         "1.0",
         "0.0",
         "0.0",
         "0.0",
         "0.0",
         "0.0",
         "0.0",
         "0.0",
         "0.0",
         "0.0",
         "0.0",
         "1.0",
         "0.0",
         "0.0",
         "1.0",
         "0.0",
         "0.0",
         "0.0",
         "0.0",
         "0.0",
         "0.0",
         "0.0",
         "0.0",
         "0.0",
         "0.0",
         "0.0",
         "0.0",
         "0.0",
         "0.0",
         "0.0",
         "0.0",
         "0.0",
         "0.0",
         "0.0",
         "0.0",
         "0.0",
         "0.0",
         "0.0",
         "0.0",
         "0.0",
         "0.0",
         "0.0",
         "0.0",
         "0.0",
         "0.0",
         "0.0",
         "0.0",
         "0.0",
         "0.0",
         "0.0",
         "0.0",
         "0.0",
         "0.0",
         "1.0",
         "0.0",
         "0.0",
         "0.0",
         "0.0",
         "0.0",
         "0.0",
         "0.0",
         "0.0",
         "0.0",
         "0.0",
         "0.0",
         "0.0",
         "0.0",
         "0.0",
         "0.0",
         "0.0",
         "0.0",
         "0.0",
         "0.0",
         "0.0",
         "0.0",
         "0.0",
         "0.0",
         "1.0",
         "0.0",
         "0.0",
         "0.0",
         "0.0",
         "0.0",
         "0.0",
         "0.0",
         "0.0",
         "0.0",
         "0.0",
         "0.0",
         "0.0",
         "0.0",
         "0.0",
         "0.0",
         "0.0",
         "0.0",
         "0.0",
         "0.0",
         "1.0",
         "0.0",
         "0.0",
         "1.0",
         "0.0",
         "0.0",
         "malware"
        ],
        [
         "2",
         "0.0",
         "0.0",
         "0.0",
         "0.0",
         "0.0",
         "0.0",
         "0.0",
         "0.0",
         "0.0",
         "1.0",
         "0.0",
         "0.0",
         "0.0",
         "0.0",
         "0.0",
         "0.0",
         "0.0",
         "0.0",
         "0.0",
         "0.0",
         "0.0",
         "0.0",
         "0.0",
         "0.0",
         "0.0",
         "0.0",
         "0.0",
         "0.0",
         "0.0",
         "0.0",
         "0.0",
         "0.0",
         "0.0",
         "0.0",
         "0.0",
         "0.0",
         "0.0",
         "0.0",
         "0.0",
         "0.0",
         "0.0",
         "0.0",
         "0.0",
         "0.0",
         "0.0",
         "0.0",
         "0.0",
         "0.0",
         "0.0",
         "0.0",
         "0.0",
         "0.0",
         "0.0",
         "0.0",
         "0.0",
         "0.0",
         "0.0",
         "0.0",
         "0.0",
         "0.0",
         "0.0",
         "0.0",
         "0.0",
         "0.0",
         "0.0",
         "0.0",
         "0.0",
         "0.0",
         "0.0",
         "0.0",
         "0.0",
         "0.0",
         "0.0",
         "0.0",
         "1.0",
         "0.0",
         "0.0",
         "0.0",
         "0.0",
         "0.0",
         "0.0",
         "0.0",
         "0.0",
         "0.0",
         "0.0",
         "0.0",
         "1.0",
         "0.0",
         "0.0",
         "0.0",
         "0.0",
         "0.0",
         "0.0",
         "0.0",
         "0.0",
         "0.0",
         "0.0",
         "0.0",
         "1.0",
         "0.0",
         "1.0",
         "0.0",
         "0.0",
         "0.0",
         "0.0",
         "0.0",
         "0.0",
         "0.0",
         "0.0",
         "0.0",
         "0.0",
         "0.0",
         "0.0",
         "0.0",
         "0.0",
         "0.0",
         "0.0",
         "0.0",
         "0.0",
         "0.0",
         "0.0",
         "0.0",
         "0.0",
         "0.0",
         "0.0",
         "0.0",
         "0.0",
         "0.0",
         "0.0",
         "0.0",
         "0.0",
         "0.0",
         "0.0",
         "0.0",
         "0.0",
         "0.0",
         "0.0",
         "0.0",
         "1.0",
         "0.0",
         "0.0",
         "0.0",
         "0.0",
         "0.0",
         "0.0",
         "0.0",
         "0.0",
         "0.0",
         "0.0",
         "1.0",
         "0.0",
         "0.0",
         "0.0",
         "0.0",
         "0.0",
         "0.0",
         "0.0",
         "0.0",
         "0.0",
         "0.0",
         "0.0",
         "0.0",
         "0.0",
         "0.0",
         "0.0",
         "0.0",
         "0.0",
         "0.0",
         "0.0",
         "0.0",
         "0.0",
         "0.0",
         "0.0",
         "0.0",
         "0.0",
         "0.0",
         "0.0",
         "0.0",
         "0.0",
         "0.0",
         "0.0",
         "0.0",
         "1.0",
         "0.0",
         "0.0",
         "0.0",
         "0.0",
         "0.0",
         "0.0",
         "0.0",
         "0.0",
         "1.0",
         "0.0",
         "0.0",
         "0.0",
         "0.0",
         "0.0",
         "0.0",
         "0.0",
         "0.0",
         "0.0",
         "0.0",
         "0.0",
         "0.0",
         "0.0",
         "0.0",
         "0.0",
         "0.0",
         "0.0",
         "0.0",
         "0.0",
         "0.0",
         "0.0",
         "0.0",
         "1.0",
         "1.0",
         "1.0",
         "1.0",
         "0.0",
         "1.0",
         "0.0",
         "0.0",
         "0.0",
         "0.0",
         "0.0",
         "0.0",
         "0.0",
         "0.0",
         "0.0",
         "1.0",
         "0.0",
         "0.0",
         "0.0",
         "0.0",
         "0.0",
         "0.0",
         "0.0",
         "0.0",
         "0.0",
         "0.0",
         "0.0",
         "malware"
        ],
        [
         "3",
         "0.0",
         "0.0",
         "0.0",
         "0.0",
         "0.0",
         "0.0",
         "0.0",
         "0.0",
         "0.0",
         "0.0",
         "0.0",
         "0.0",
         "0.0",
         "0.0",
         "0.0",
         "0.0",
         "0.0",
         "0.0",
         "0.0",
         "0.0",
         "0.0",
         "0.0",
         "0.0",
         "0.0",
         "0.0",
         "1.0",
         "0.0",
         "0.0",
         "0.0",
         "0.0",
         "0.0",
         "0.0",
         "0.0",
         "0.0",
         "0.0",
         "0.0",
         "0.0",
         "0.0",
         "0.0",
         "0.0",
         "0.0",
         "0.0",
         "0.0",
         "0.0",
         "0.0",
         "0.0",
         "0.0",
         "0.0",
         "0.0",
         "0.0",
         "0.0",
         "0.0",
         "0.0",
         "0.0",
         "0.0",
         "0.0",
         "0.0",
         "0.0",
         "0.0",
         "0.0",
         "0.0",
         "0.0",
         "0.0",
         "0.0",
         "0.0",
         "0.0",
         "0.0",
         "0.0",
         "0.0",
         "0.0",
         "0.0",
         "0.0",
         "0.0",
         "0.0",
         "0.0",
         "0.0",
         "0.0",
         "0.0",
         "0.0",
         "0.0",
         "0.0",
         "0.0",
         "0.0",
         "0.0",
         "0.0",
         "0.0",
         "0.0",
         "0.0",
         "0.0",
         "0.0",
         "0.0",
         "0.0",
         "0.0",
         "0.0",
         "0.0",
         "0.0",
         "0.0",
         "0.0",
         "1.0",
         "0.0",
         "0.0",
         "0.0",
         "0.0",
         "0.0",
         "0.0",
         "0.0",
         "0.0",
         "0.0",
         "0.0",
         "0.0",
         "0.0",
         "0.0",
         "0.0",
         "0.0",
         "0.0",
         "0.0",
         "0.0",
         "0.0",
         "0.0",
         "0.0",
         "0.0",
         "0.0",
         "0.0",
         "0.0",
         "0.0",
         "0.0",
         "0.0",
         "0.0",
         "0.0",
         "0.0",
         "0.0",
         "0.0",
         "0.0",
         "0.0",
         "0.0",
         "0.0",
         "0.0",
         "0.0",
         "1.0",
         "0.0",
         "0.0",
         "0.0",
         "0.0",
         "0.0",
         "0.0",
         "0.0",
         "0.0",
         "0.0",
         "0.0",
         "1.0",
         "0.0",
         "0.0",
         "1.0",
         "0.0",
         "0.0",
         "0.0",
         "0.0",
         "0.0",
         "0.0",
         "0.0",
         "0.0",
         "0.0",
         "0.0",
         "1.0",
         "0.0",
         "0.0",
         "0.0",
         "0.0",
         "0.0",
         "0.0",
         "0.0",
         "0.0",
         "0.0",
         "0.0",
         "0.0",
         "0.0",
         "0.0",
         "0.0",
         "0.0",
         "0.0",
         "0.0",
         "0.0",
         "0.0",
         "0.0",
         "0.0",
         "0.0",
         "0.0",
         "0.0",
         "0.0",
         "0.0",
         "0.0",
         "0.0",
         "0.0",
         "0.0",
         "0.0",
         "0.0",
         "0.0",
         "0.0",
         "0.0",
         "0.0",
         "0.0",
         "0.0",
         "0.0",
         "0.0",
         "0.0",
         "0.0",
         "0.0",
         "0.0",
         "0.0",
         "0.0",
         "0.0",
         "0.0",
         "0.0",
         "0.0",
         "0.0",
         "1.0",
         "0.0",
         "0.0",
         "0.0",
         "0.0",
         "0.0",
         "0.0",
         "0.0",
         "0.0",
         "1.0",
         "0.0",
         "0.0",
         "0.0",
         "0.0",
         "1.0",
         "0.0",
         "0.0",
         "0.0",
         "1.0",
         "1.0",
         "1.0",
         "1.0",
         "0.0",
         "1.0",
         "0.0",
         "0.0",
         "malware"
        ],
        [
         "4",
         "0.0",
         "0.0",
         "0.0",
         "0.0",
         "0.0",
         "0.0",
         "0.0",
         "0.0",
         "0.0",
         "0.0",
         "0.0",
         "0.0",
         "0.0",
         "0.0",
         "0.0",
         "1.0",
         "0.0",
         "0.0",
         "0.0",
         "0.0",
         "0.0",
         "0.0",
         "0.0",
         "0.0",
         "0.0",
         "0.0",
         "0.0",
         "0.0",
         "0.0",
         "0.0",
         "0.0",
         "0.0",
         "0.0",
         "0.0",
         "0.0",
         "0.0",
         "0.0",
         "0.0",
         "0.0",
         "0.0",
         "0.0",
         "0.0",
         "0.0",
         "0.0",
         "0.0",
         "0.0",
         "0.0",
         "0.0",
         "0.0",
         "0.0",
         "0.0",
         "0.0",
         "0.0",
         "0.0",
         "0.0",
         "0.0",
         "0.0",
         "0.0",
         "0.0",
         "0.0",
         "0.0",
         "0.0",
         "0.0",
         "0.0",
         "1.0",
         "0.0",
         "0.0",
         "0.0",
         "0.0",
         "0.0",
         "0.0",
         "0.0",
         "0.0",
         "0.0",
         "0.0",
         "0.0",
         "0.0",
         "0.0",
         "0.0",
         "0.0",
         "0.0",
         "0.0",
         "0.0",
         "0.0",
         "0.0",
         "0.0",
         "1.0",
         "0.0",
         "0.0",
         "0.0",
         "0.0",
         "0.0",
         "0.0",
         "0.0",
         "0.0",
         "0.0",
         "0.0",
         "0.0",
         "0.0",
         "0.0",
         "1.0",
         "0.0",
         "0.0",
         "0.0",
         "0.0",
         "0.0",
         "0.0",
         "0.0",
         "0.0",
         "0.0",
         "0.0",
         "0.0",
         "0.0",
         "0.0",
         "0.0",
         "0.0",
         "0.0",
         "0.0",
         "0.0",
         "0.0",
         "0.0",
         "0.0",
         "0.0",
         "0.0",
         "0.0",
         "0.0",
         "0.0",
         "0.0",
         "0.0",
         "0.0",
         "0.0",
         "0.0",
         "0.0",
         "0.0",
         "0.0",
         "0.0",
         "0.0",
         "0.0",
         "0.0",
         "0.0",
         "0.0",
         "0.0",
         "0.0",
         "0.0",
         "0.0",
         "0.0",
         "0.0",
         "0.0",
         "0.0",
         "1.0",
         "0.0",
         "0.0",
         "0.0",
         "0.0",
         "0.0",
         "0.0",
         "0.0",
         "0.0",
         "0.0",
         "0.0",
         "0.0",
         "0.0",
         "0.0",
         "0.0",
         "0.0",
         "0.0",
         "0.0",
         "0.0",
         "0.0",
         "0.0",
         "0.0",
         "0.0",
         "0.0",
         "0.0",
         "0.0",
         "0.0",
         "0.0",
         "0.0",
         "0.0",
         "0.0",
         "0.0",
         "0.0",
         "0.0",
         "0.0",
         "0.0",
         "0.0",
         "0.0",
         "0.0",
         "0.0",
         "0.0",
         "0.0",
         "1.0",
         "0.0",
         "0.0",
         "0.0",
         "0.0",
         "0.0",
         "0.0",
         "0.0",
         "0.0",
         "0.0",
         "0.0",
         "0.0",
         "0.0",
         "0.0",
         "0.0",
         "0.0",
         "0.0",
         "0.0",
         "0.0",
         "0.0",
         "0.0",
         "0.0",
         "0.0",
         "0.0",
         "0.0",
         "1.0",
         "0.0",
         "0.0",
         "0.0",
         "0.0",
         "0.0",
         "0.0",
         "0.0",
         "0.0",
         "0.0",
         "0.0",
         "0.0",
         "0.0",
         "0.0",
         "0.0",
         "0.0",
         "0.0",
         "0.0",
         "0.0",
         "0.0",
         "0.0",
         "0.0",
         "0.0",
         "0.0",
         "0.0",
         "malware"
        ]
       ],
       "shape": {
        "columns": 242,
        "rows": 5
       }
      },
      "text/html": [
       "<div>\n",
       "<style scoped>\n",
       "    .dataframe tbody tr th:only-of-type {\n",
       "        vertical-align: middle;\n",
       "    }\n",
       "\n",
       "    .dataframe tbody tr th {\n",
       "        vertical-align: top;\n",
       "    }\n",
       "\n",
       "    .dataframe thead th {\n",
       "        text-align: right;\n",
       "    }\n",
       "</style>\n",
       "<table border=\"1\" class=\"dataframe\">\n",
       "  <thead>\n",
       "    <tr style=\"text-align: right;\">\n",
       "      <th></th>\n",
       "      <th>ACCESS_ALL_DOWNLOADS</th>\n",
       "      <th>ACCESS_CACHE_FILESYSTEM</th>\n",
       "      <th>ACCESS_CHECKIN_PROPERTIES</th>\n",
       "      <th>ACCESS_COARSE_LOCATION</th>\n",
       "      <th>ACCESS_COARSE_UPDATES</th>\n",
       "      <th>ACCESS_FINE_LOCATION</th>\n",
       "      <th>ACCESS_LOCATION_EXTRA_COMMANDS</th>\n",
       "      <th>ACCESS_MOCK_LOCATION</th>\n",
       "      <th>ACCESS_MTK_MMHW</th>\n",
       "      <th>ACCESS_NETWORK_STATE</th>\n",
       "      <th>...</th>\n",
       "      <th>Landroid/telephony/TelephonyManager;-&gt;getLine1Number</th>\n",
       "      <th>Landroid/telephony/TelephonyManager;-&gt;getNetworkOperator</th>\n",
       "      <th>Landroid/telephony/TelephonyManager;-&gt;getNetworkOperatorName</th>\n",
       "      <th>Landroid/telephony/TelephonyManager;-&gt;getNetworkCountryIso</th>\n",
       "      <th>Landroid/telephony/TelephonyManager;-&gt;getSimOperator</th>\n",
       "      <th>Landroid/telephony/TelephonyManager;-&gt;getSimOperatorName</th>\n",
       "      <th>Landroid/telephony/TelephonyManager;-&gt;getSimCountryIso</th>\n",
       "      <th>Landroid/telephony/TelephonyManager;-&gt;getSimSerialNumber</th>\n",
       "      <th>Lorg/apache/http/impl/client/DefaultHttpClient;-&gt;execute</th>\n",
       "      <th>Label</th>\n",
       "    </tr>\n",
       "  </thead>\n",
       "  <tbody>\n",
       "    <tr>\n",
       "      <th>0</th>\n",
       "      <td>0.0</td>\n",
       "      <td>0.0</td>\n",
       "      <td>0.0</td>\n",
       "      <td>0.0</td>\n",
       "      <td>0.0</td>\n",
       "      <td>0.0</td>\n",
       "      <td>0.0</td>\n",
       "      <td>0.0</td>\n",
       "      <td>0.0</td>\n",
       "      <td>1.0</td>\n",
       "      <td>...</td>\n",
       "      <td>1.0</td>\n",
       "      <td>1.0</td>\n",
       "      <td>1.0</td>\n",
       "      <td>0.0</td>\n",
       "      <td>0.0</td>\n",
       "      <td>0.0</td>\n",
       "      <td>0.0</td>\n",
       "      <td>0.0</td>\n",
       "      <td>1.0</td>\n",
       "      <td>malware</td>\n",
       "    </tr>\n",
       "    <tr>\n",
       "      <th>1</th>\n",
       "      <td>0.0</td>\n",
       "      <td>0.0</td>\n",
       "      <td>0.0</td>\n",
       "      <td>0.0</td>\n",
       "      <td>0.0</td>\n",
       "      <td>0.0</td>\n",
       "      <td>0.0</td>\n",
       "      <td>0.0</td>\n",
       "      <td>0.0</td>\n",
       "      <td>1.0</td>\n",
       "      <td>...</td>\n",
       "      <td>0.0</td>\n",
       "      <td>0.0</td>\n",
       "      <td>0.0</td>\n",
       "      <td>1.0</td>\n",
       "      <td>0.0</td>\n",
       "      <td>0.0</td>\n",
       "      <td>1.0</td>\n",
       "      <td>0.0</td>\n",
       "      <td>0.0</td>\n",
       "      <td>malware</td>\n",
       "    </tr>\n",
       "    <tr>\n",
       "      <th>2</th>\n",
       "      <td>0.0</td>\n",
       "      <td>0.0</td>\n",
       "      <td>0.0</td>\n",
       "      <td>0.0</td>\n",
       "      <td>0.0</td>\n",
       "      <td>0.0</td>\n",
       "      <td>0.0</td>\n",
       "      <td>0.0</td>\n",
       "      <td>0.0</td>\n",
       "      <td>1.0</td>\n",
       "      <td>...</td>\n",
       "      <td>0.0</td>\n",
       "      <td>0.0</td>\n",
       "      <td>0.0</td>\n",
       "      <td>0.0</td>\n",
       "      <td>0.0</td>\n",
       "      <td>0.0</td>\n",
       "      <td>0.0</td>\n",
       "      <td>0.0</td>\n",
       "      <td>0.0</td>\n",
       "      <td>malware</td>\n",
       "    </tr>\n",
       "    <tr>\n",
       "      <th>3</th>\n",
       "      <td>0.0</td>\n",
       "      <td>0.0</td>\n",
       "      <td>0.0</td>\n",
       "      <td>0.0</td>\n",
       "      <td>0.0</td>\n",
       "      <td>0.0</td>\n",
       "      <td>0.0</td>\n",
       "      <td>0.0</td>\n",
       "      <td>0.0</td>\n",
       "      <td>0.0</td>\n",
       "      <td>...</td>\n",
       "      <td>0.0</td>\n",
       "      <td>1.0</td>\n",
       "      <td>1.0</td>\n",
       "      <td>1.0</td>\n",
       "      <td>1.0</td>\n",
       "      <td>0.0</td>\n",
       "      <td>1.0</td>\n",
       "      <td>0.0</td>\n",
       "      <td>0.0</td>\n",
       "      <td>malware</td>\n",
       "    </tr>\n",
       "    <tr>\n",
       "      <th>4</th>\n",
       "      <td>0.0</td>\n",
       "      <td>0.0</td>\n",
       "      <td>0.0</td>\n",
       "      <td>0.0</td>\n",
       "      <td>0.0</td>\n",
       "      <td>0.0</td>\n",
       "      <td>0.0</td>\n",
       "      <td>0.0</td>\n",
       "      <td>0.0</td>\n",
       "      <td>0.0</td>\n",
       "      <td>...</td>\n",
       "      <td>0.0</td>\n",
       "      <td>0.0</td>\n",
       "      <td>0.0</td>\n",
       "      <td>0.0</td>\n",
       "      <td>0.0</td>\n",
       "      <td>0.0</td>\n",
       "      <td>0.0</td>\n",
       "      <td>0.0</td>\n",
       "      <td>0.0</td>\n",
       "      <td>malware</td>\n",
       "    </tr>\n",
       "  </tbody>\n",
       "</table>\n",
       "<p>5 rows × 242 columns</p>\n",
       "</div>"
      ],
      "text/plain": [
       "   ACCESS_ALL_DOWNLOADS  ACCESS_CACHE_FILESYSTEM  ACCESS_CHECKIN_PROPERTIES  \\\n",
       "0                   0.0                      0.0                        0.0   \n",
       "1                   0.0                      0.0                        0.0   \n",
       "2                   0.0                      0.0                        0.0   \n",
       "3                   0.0                      0.0                        0.0   \n",
       "4                   0.0                      0.0                        0.0   \n",
       "\n",
       "   ACCESS_COARSE_LOCATION  ACCESS_COARSE_UPDATES  ACCESS_FINE_LOCATION  \\\n",
       "0                     0.0                    0.0                   0.0   \n",
       "1                     0.0                    0.0                   0.0   \n",
       "2                     0.0                    0.0                   0.0   \n",
       "3                     0.0                    0.0                   0.0   \n",
       "4                     0.0                    0.0                   0.0   \n",
       "\n",
       "   ACCESS_LOCATION_EXTRA_COMMANDS  ACCESS_MOCK_LOCATION  ACCESS_MTK_MMHW  \\\n",
       "0                             0.0                   0.0              0.0   \n",
       "1                             0.0                   0.0              0.0   \n",
       "2                             0.0                   0.0              0.0   \n",
       "3                             0.0                   0.0              0.0   \n",
       "4                             0.0                   0.0              0.0   \n",
       "\n",
       "   ACCESS_NETWORK_STATE  ...  \\\n",
       "0                   1.0  ...   \n",
       "1                   1.0  ...   \n",
       "2                   1.0  ...   \n",
       "3                   0.0  ...   \n",
       "4                   0.0  ...   \n",
       "\n",
       "   Landroid/telephony/TelephonyManager;->getLine1Number  \\\n",
       "0                                                1.0      \n",
       "1                                                0.0      \n",
       "2                                                0.0      \n",
       "3                                                0.0      \n",
       "4                                                0.0      \n",
       "\n",
       "   Landroid/telephony/TelephonyManager;->getNetworkOperator  \\\n",
       "0                                                1.0          \n",
       "1                                                0.0          \n",
       "2                                                0.0          \n",
       "3                                                1.0          \n",
       "4                                                0.0          \n",
       "\n",
       "   Landroid/telephony/TelephonyManager;->getNetworkOperatorName  \\\n",
       "0                                                1.0              \n",
       "1                                                0.0              \n",
       "2                                                0.0              \n",
       "3                                                1.0              \n",
       "4                                                0.0              \n",
       "\n",
       "   Landroid/telephony/TelephonyManager;->getNetworkCountryIso  \\\n",
       "0                                                0.0            \n",
       "1                                                1.0            \n",
       "2                                                0.0            \n",
       "3                                                1.0            \n",
       "4                                                0.0            \n",
       "\n",
       "   Landroid/telephony/TelephonyManager;->getSimOperator  \\\n",
       "0                                                0.0      \n",
       "1                                                0.0      \n",
       "2                                                0.0      \n",
       "3                                                1.0      \n",
       "4                                                0.0      \n",
       "\n",
       "   Landroid/telephony/TelephonyManager;->getSimOperatorName  \\\n",
       "0                                                0.0          \n",
       "1                                                0.0          \n",
       "2                                                0.0          \n",
       "3                                                0.0          \n",
       "4                                                0.0          \n",
       "\n",
       "   Landroid/telephony/TelephonyManager;->getSimCountryIso  \\\n",
       "0                                                0.0        \n",
       "1                                                1.0        \n",
       "2                                                0.0        \n",
       "3                                                1.0        \n",
       "4                                                0.0        \n",
       "\n",
       "   Landroid/telephony/TelephonyManager;->getSimSerialNumber  \\\n",
       "0                                                0.0          \n",
       "1                                                0.0          \n",
       "2                                                0.0          \n",
       "3                                                0.0          \n",
       "4                                                0.0          \n",
       "\n",
       "   Lorg/apache/http/impl/client/DefaultHttpClient;->execute    Label  \n",
       "0                                                1.0         malware  \n",
       "1                                                0.0         malware  \n",
       "2                                                0.0         malware  \n",
       "3                                                0.0         malware  \n",
       "4                                                0.0         malware  \n",
       "\n",
       "[5 rows x 242 columns]"
      ]
     },
     "execution_count": 46,
     "metadata": {},
     "output_type": "execute_result"
    }
   ],
   "source": [
    "# read the csv file - dataset TUANDROMD\n",
    "data = pd.read_csv('TUANDROMD.csv')\n",
    "\n",
    "data.head()"
   ]
  },
  {
   "cell_type": "markdown",
   "metadata": {},
   "source": [
    "### Check the following points/characteristics\n",
    "\n",
    "1) Characteristics of TUANDROMD written in the paper we are using as a guide:\n",
    "    1) Labels in the data: The TUANDROMD dataset has 72 labels where 71 labels represents the whole malware family and the remaining one label belong to the normal class.\n",
    "\n",
    "    2) Number of instances: There are a total 25,553 instances for both the permission and API-based features, of which 24,553 instances belong to the malware class and the rest 1000 instances belong to the benign class.\n",
    "\n",
    "    3) Number of features: For permission-based features, all the permissions used by the applications are extracted as features. A total of 178 features are extracted. Similarly, for API based features, a total of 186 features are extracted.\n",
    "\n",
    "    4) Balance between the classes: The dataset is not perfectly balanced i.e., the dataset does not have an equal number of instances for both classes. This slight imblance can be easily handled by collecting more instances or sampling techniques. The proposed dataset creation framework can handle such adaptaions.\n",
    "\n",
    "    5) Recency: The data collected for creation of TUANDROMD are recent. As and when new malicious and normal android applications are available, the dataset can be updated accordingly.\n",
    "\n",
    "    6) Relevance: The extracted features helps distinguish between malware and benign android applications. To the best of our knowledge, these features are relevant differentiating between the two."
   ]
  },
  {
   "cell_type": "code",
   "execution_count": 47,
   "metadata": {},
   "outputs": [
    {
     "name": "stdout",
     "output_type": "stream",
     "text": [
      "Dataset shape:  (4465, 242)\n",
      "Labels in the data:  Label\n",
      "malware     3565\n",
      "goodware     899\n",
      "Name: count, dtype: int64\n",
      "Number of instances:  4465\n",
      "Number of features:  242\n"
     ]
    },
    {
     "data": {
      "image/png": "[encoded data removed]",
      "text/plain": [
       "<Figure size 640x480 with 1 Axes>"
      ]
     },
     "metadata": {},
     "output_type": "display_data"
    },
    {
     "name": "stdout",
     "output_type": "stream",
     "text": [
      "ACCESS_ALL_DOWNLOADS                                        1\n",
      "ACCESS_CACHE_FILESYSTEM                                     1\n",
      "ACCESS_CHECKIN_PROPERTIES                                   1\n",
      "ACCESS_COARSE_LOCATION                                      1\n",
      "ACCESS_COARSE_UPDATES                                       1\n",
      "                                                           ..\n",
      "Landroid/telephony/TelephonyManager;->getSimOperatorName    1\n",
      "Landroid/telephony/TelephonyManager;->getSimCountryIso      1\n",
      "Landroid/telephony/TelephonyManager;->getSimSerialNumber    1\n",
      "Lorg/apache/http/impl/client/DefaultHttpClient;->execute    1\n",
      "Label                                                       1\n",
      "Length: 242, dtype: int64\n"
     ]
    }
   ],
   "source": [
    "# tamanho do dataset\n",
    "print(\"Dataset shape: \", data.shape) # (4465, 242)\n",
    "\n",
    "# classes\n",
    "labels = data['Label'].value_counts() # malware 3565 + goodware 899\n",
    "print(\"Labels in the data: \", labels)\n",
    "\n",
    "# numero de observações\n",
    "print(\"Number of instances: \", len(data)) # 4465\n",
    "\n",
    "# numero de variaveis\n",
    "print(\"Number of features: \", len(data.columns)) # 242\n",
    "\n",
    "# distruibuição dos dados pelas classes\n",
    "data['Label'].value_counts().plot(kind='pie', autopct='%1.1f%%', colors=['lightcoral', 'lightgreen'])\n",
    "plt.ylabel('')\n",
    "plt.title('Balance between the classes') # very unbalanced dataset\n",
    "plt.show()\n",
    "\n",
    "# check missing values\n",
    "print(data.isnull().sum()) # one empty line"
   ]
  },
  {
   "cell_type": "markdown",
   "metadata": {},
   "source": [
    "# **<font color=\"lightcoral\">take conclusions about the previous points - are they same of the results in the paper?</font>**"
   ]
  },
  {
   "cell_type": "markdown",
   "metadata": {},
   "source": [
    "### Check the top features for TUANDROMD\n",
    "\n",
    "**TABLE I** - LIST OF TOP RANKED FEATURES FOR TUANDROMD written in the paper we are using as a guide\n",
    "\n",
    "| Feature Rank | Feature Name |\n",
    "| ------------ | ------------ |\n",
    "| 1 | SEND_SMS |\n",
    "| 2 | RECEIVE_BOOT_COMPLETED |\n",
    "| 3 | GET_TASKS |\n",
    "| 4 | *Ljava/net/URL;* − > *openConnection* |\n",
    "| 5 | VIBRATE |\n",
    "| 6 | WAKE_LOCK |\n",
    "| 7 | KILL_BACKGROUND_PROCESSES |\n",
    "| 8 | SYSTEM_ALERT_WINDOW |\n",
    "| 9 | ACCESS_WIFI_STATE |\n",
    "| 10 | DISABLE_KEY_GUARD |\n",
    "| 11 | *Landroid/location/LocationManager;* − > *getLastKnownLocation* |\n",
    "| 12 | READ_PHONE_STATE |\n",
    "| 13 | RECEIVE_SMS |\n",
    "| 14 | CHANGE_WIFI_STATE |\n",
    "| 15 | WRITE_EXTERNAL_STORAGE |"
   ]
  },
  {
   "cell_type": "code",
   "execution_count": null,
   "metadata": {},
   "outputs": [
    {
     "name": "stdout",
     "output_type": "stream",
     "text": [
      "ACCESS_ALL_DOWNLOADS                                        0\n",
      "ACCESS_CACHE_FILESYSTEM                                     0\n",
      "ACCESS_CHECKIN_PROPERTIES                                   0\n",
      "ACCESS_COARSE_LOCATION                                      0\n",
      "ACCESS_COARSE_UPDATES                                       0\n",
      "                                                           ..\n",
      "Landroid/telephony/TelephonyManager;->getSimOperatorName    0\n",
      "Landroid/telephony/TelephonyManager;->getSimCountryIso      0\n",
      "Landroid/telephony/TelephonyManager;->getSimSerialNumber    0\n",
      "Lorg/apache/http/impl/client/DefaultHttpClient;->execute    0\n",
      "Label                                                       0\n",
      "Length: 242, dtype: int64\n"
     ]
    }
   ],
   "source": [
    "# train and test split\n",
    "data2 = data.dropna()\n",
    "# print(data2.isnull().sum()) # one empty line\n",
    "\n",
    "X = data2.drop(columns=['Label'])\n",
    "y = data2['Label']\n",
    "\n",
    "X_train, X_test, y_train, y_test = train_test_split(X, y, test_size=0.2, random_state=42)"
   ]
  },
  {
   "cell_type": "code",
   "execution_count": 61,
   "metadata": {},
   "outputs": [
    {
     "name": "stdout",
     "output_type": "stream",
     "text": [
      "                                               Feature  Importance\n",
      "149                             RECEIVE_BOOT_COMPLETED    0.154621\n",
      "220                     Ljava/net/URL;->openConnection    0.095576\n",
      "228  Landroid/location/LocationManager;->getLastKgo...    0.072026\n",
      "86                                           GET_TASKS    0.060979\n",
      "191                                          WAKE_LOCK    0.058397\n",
      "100                          KILL_BACKGROUND_PROCESSES    0.037840\n",
      "217                           Ljava/lang/System;->load    0.032456\n",
      "138                                   READ_PHONE_STATE    0.029641\n",
      "219                    Ljava/lang/System;->loadLibrary    0.023947\n",
      "218          Ldalvik/system/DexClassLoader;->loadClass    0.022712\n",
      "152                                        RECEIVE_SMS    0.020154\n",
      "216                          Ljava/lang/Runtime;->exec    0.018967\n",
      "190                                            VIBRATE    0.018231\n",
      "233  Landroid/telephony/TelephonyManager;->getNetwo...    0.016859\n",
      "182                                SYSTEM_ALERT_WINDOW    0.016633\n"
     ]
    },
    {
     "data": {
      "image/png": "[encoded data removed]",
      "text/plain": [
       "<Figure size 2500x2000 with 1 Axes>"
      ]
     },
     "metadata": {},
     "output_type": "display_data"
    }
   ],
   "source": [
    "# list of top ranked features for tuandromd (15)\n",
    "\n",
    "rf = RandomForestClassifier(n_estimators=100, random_state=42) # train random forest classifier\n",
    "rf.fit(X_train, y_train)\n",
    "\n",
    "# extract important features\n",
    "importances = rf.feature_importances_\n",
    "featureNames = X.columns\n",
    "\n",
    "dfFeatureImportance = pd.DataFrame({'Feature': featureNames, 'Importance': importances})\n",
    "\n",
    "# rank features by importance\n",
    "topFeatures = dfFeatureImportance.sort_values(by='Importance', ascending=False)\n",
    "print(topFeatures.head(15)) # to show all the 15 features\n",
    "\n",
    "plt.figure(figsize=(25, 20))\n",
    "plt.barh(topFeatures['Feature'].head(25), topFeatures['Importance'].head(25), color='royalblue')\n",
    "plt.xlabel(\"Feature Importance\")\n",
    "plt.ylabel(\"Feature\")\n",
    "plt.title(\"Top 15 Features - Random Forest\")\n",
    "plt.gca().invert_yaxis() # most important first place\n",
    "plt.show()\n"
   ]
  },
  {
   "cell_type": "markdown",
   "metadata": {},
   "source": [
    "**TABLE II** - LIST OF TOP RANKED FEATURES FOR TUANDROMD calculated using a Random Forest (trying to reproduce the paper results)\n",
    "\n",
    "| Feature Rank | Feature | Importance |\n",
    "| ------------ | ------- | ---------- |\n",
    "| 1 |                            RECEIVE_BOOT_COMPLETED  |  0.154621 |\n",
    "| 2 |                    Ljava/net/URL;->openConnection  |  0.095576 |\n",
    "| 3 | Landroid/location/LocationManager;->getLastKgoodwarewnLocation  |  0.072026 |\n",
    "| 4 |                                         GET_TASKS  |  0.060979 |\n",
    "| 5 |                                         WAKE_LOCK  |  0.058397 |\n",
    "| 6 |                         KILL_BACKGROUND_PROCESSES  |  0.037840 |\n",
    "| 7 |                          Ljava/lang/System;->load  |  0.032456 |\n",
    "| 8 |                                  READ_PHONE_STATE  |  0.029641 |\n",
    "| 9 |                   Ljava/lang/System;->loadLibrary  |  0.023947 |\n",
    "| 10 |         Ldalvik/system/DexClassLoader;->loadClass  |  0.022712 |\n",
    "| 11 |                                       RECEIVE_SMS  |  0.020154 |\n",
    "| 12 |                         Ljava/lang/Runtime;->exec  |  0.018967 |\n",
    "| 13 |                                           VIBRATE  |  0.018231 |\n",
    "| 14 | Landroid/telephony/TelephonyManager;->getNetworkOperator  |  0.016859 |\n",
    "| 15 |                               SYSTEM_ALERT_WINDOW  |  0.016633 |"
   ]
  },
  {
   "cell_type": "markdown",
   "metadata": {},
   "source": [
    "# **<font color=\"lightcoral\">passou de multiclass para binary class - check here</font>**"
   ]
  },
  {
   "cell_type": "markdown",
   "metadata": {},
   "source": [
    "## Performance Evaluation and Valition\n",
    "\n",
    "#### Classifiers:\n",
    "- **Random Forest:**\n",
    "- **EXtra Tree:**\n",
    "- **Ada Boost:**\n",
    "- **Xg Boost:**\n",
    "- **Gradient boosting:**\n",
    "\n",
    "#### Parameters:\n",
    "... \\\n",
    "\n",
    "#### Cross Validation:\n",
    "\n",
    "#### Metrics:\n",
    "The only metric used for performance evaluation in the prior study was the test accuracy, or at least is the only one that is mencioned in the study.\\"
   ]
  },
  {
   "cell_type": "code",
   "execution_count": 6,
   "metadata": {},
   "outputs": [],
   "source": [
    "# cross validation com k=10\n",
    "\n",
    "# treinar os 5 modelos\n",
    "\n",
    "# avaliar a accuracy dos 5 modelos"
   ]
  },
  {
   "cell_type": "code",
   "execution_count": null,
   "metadata": {},
   "outputs": [],
   "source": [
    "# fazer o mesmo para o dataframe só com as top features\n",
    "\n",
    "# avaliar a accuracy\n",
    "\n",
    "# comparar as accuracies"
   ]
  },
  {
   "cell_type": "markdown",
   "metadata": {},
   "source": [
    "### Table of obtained results\n",
    "\n",
    "### Table of the prior study results\n",
    "\n",
    "### Comparison of the results\n",
    "\n",
    "## Conclusions"
   ]
  },
  {
   "cell_type": "code",
   "execution_count": null,
   "metadata": {},
   "outputs": [],
   "source": [
    "# TODO: clean code\n",
    "# TODO: add code description\n",
    "# TODO: complete notebook text and explanation"
   ]
  },
  {
   "cell_type": "markdown",
   "metadata": {},
   "source": [
    "## Bibliography\n",
    "[1] https://ieeexplore.ieee.org/document/9312053\\\n",
    "[2] https://uapt33090-my.sharepoint.com/:b:/r/personal/alina_trifan_ua_pt/Documents/MDLE/aula%2002/MLD_02.pdf?csf=1&web=1&e=0AwwEE\\\n",
    "[3] https://stackoverflow.com/questions/54034392/machine-learning-feature-ranking-by-algorithms\\\n",
    "[4] https://www.geeksforgeeks.org/feature-selection-using-random-forest/"
   ]
  }
 ],
 "metadata": {
  "kernelspec": {
   "display_name": "fcd",
   "language": "python",
   "name": "python3"
  },
  "language_info": {
   "codemirror_mode": {
    "name": "ipython",
    "version": 3
   },
   "file_extension": ".py",
   "mimetype": "text/x-python",
   "name": "python",
   "nbconvert_exporter": "python",
   "pygments_lexer": "ipython3",
   "version": "3.12.6"
  }
 },
 "nbformat": 4,
 "nbformat_minor": 2
}
